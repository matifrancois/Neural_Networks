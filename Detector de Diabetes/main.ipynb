{
 "cells": [
  {
   "cell_type": "markdown",
   "metadata": {},
   "source": [
    "# Ejercicio 2\n",
    "\n",
    "## Exploratory Data Analysis (EDA)\n",
    "\n",
    "### Importamos los datos\n",
    "\n",
    "Realizamos la lectura del archivo y lo guardamos en un data frame."
   ]
  },
  {
   "cell_type": "code",
   "execution_count": 1,
   "metadata": {},
   "outputs": [],
   "source": [
    "import pandas as pd\n",
    "pd.options.mode.chained_assignment = None  # default='warn'\n",
    "df = pd.read_csv('diabetes.csv')"
   ]
  },
  {
   "cell_type": "code",
   "execution_count": 2,
   "metadata": {},
   "outputs": [],
   "source": [
    "# Se importan librerías para graficar.\n",
    "import matplotlib.pyplot as plt\n",
    "import seaborn as sns\n",
    "import numpy as np"
   ]
  },
  {
   "cell_type": "markdown",
   "metadata": {},
   "source": [
    "### Verificación del formato\n",
    "\n",
    "Imprimimos ahora las primeras 5 filas del data frame para analizar su estructura básica."
   ]
  },
  {
   "cell_type": "code",
   "execution_count": 3,
   "metadata": {},
   "outputs": [
    {
     "data": {
      "text/html": [
       "<div>\n",
       "<style scoped>\n",
       "    .dataframe tbody tr th:only-of-type {\n",
       "        vertical-align: middle;\n",
       "    }\n",
       "\n",
       "    .dataframe tbody tr th {\n",
       "        vertical-align: top;\n",
       "    }\n",
       "\n",
       "    .dataframe thead th {\n",
       "        text-align: right;\n",
       "    }\n",
       "</style>\n",
       "<table border=\"1\" class=\"dataframe\">\n",
       "  <thead>\n",
       "    <tr style=\"text-align: right;\">\n",
       "      <th></th>\n",
       "      <th>Pregnancies</th>\n",
       "      <th>Glucose</th>\n",
       "      <th>BloodPressure</th>\n",
       "      <th>SkinThickness</th>\n",
       "      <th>Insulin</th>\n",
       "      <th>BMI</th>\n",
       "      <th>DiabetesPedigreeFunction</th>\n",
       "      <th>Age</th>\n",
       "      <th>Outcome</th>\n",
       "    </tr>\n",
       "  </thead>\n",
       "  <tbody>\n",
       "    <tr>\n",
       "      <th>0</th>\n",
       "      <td>6</td>\n",
       "      <td>148</td>\n",
       "      <td>72</td>\n",
       "      <td>35</td>\n",
       "      <td>0</td>\n",
       "      <td>33.6</td>\n",
       "      <td>0.627</td>\n",
       "      <td>50</td>\n",
       "      <td>1</td>\n",
       "    </tr>\n",
       "    <tr>\n",
       "      <th>1</th>\n",
       "      <td>1</td>\n",
       "      <td>85</td>\n",
       "      <td>66</td>\n",
       "      <td>29</td>\n",
       "      <td>0</td>\n",
       "      <td>26.6</td>\n",
       "      <td>0.351</td>\n",
       "      <td>31</td>\n",
       "      <td>0</td>\n",
       "    </tr>\n",
       "    <tr>\n",
       "      <th>2</th>\n",
       "      <td>8</td>\n",
       "      <td>183</td>\n",
       "      <td>64</td>\n",
       "      <td>0</td>\n",
       "      <td>0</td>\n",
       "      <td>23.3</td>\n",
       "      <td>0.672</td>\n",
       "      <td>32</td>\n",
       "      <td>1</td>\n",
       "    </tr>\n",
       "    <tr>\n",
       "      <th>3</th>\n",
       "      <td>1</td>\n",
       "      <td>89</td>\n",
       "      <td>66</td>\n",
       "      <td>23</td>\n",
       "      <td>94</td>\n",
       "      <td>28.1</td>\n",
       "      <td>0.167</td>\n",
       "      <td>21</td>\n",
       "      <td>0</td>\n",
       "    </tr>\n",
       "    <tr>\n",
       "      <th>4</th>\n",
       "      <td>0</td>\n",
       "      <td>137</td>\n",
       "      <td>40</td>\n",
       "      <td>35</td>\n",
       "      <td>168</td>\n",
       "      <td>43.1</td>\n",
       "      <td>2.288</td>\n",
       "      <td>33</td>\n",
       "      <td>1</td>\n",
       "    </tr>\n",
       "  </tbody>\n",
       "</table>\n",
       "</div>"
      ],
      "text/plain": [
       "   Pregnancies  Glucose  BloodPressure  SkinThickness  Insulin   BMI  \\\n",
       "0            6      148             72             35        0  33.6   \n",
       "1            1       85             66             29        0  26.6   \n",
       "2            8      183             64              0        0  23.3   \n",
       "3            1       89             66             23       94  28.1   \n",
       "4            0      137             40             35      168  43.1   \n",
       "\n",
       "   DiabetesPedigreeFunction  Age  Outcome  \n",
       "0                     0.627   50        1  \n",
       "1                     0.351   31        0  \n",
       "2                     0.672   32        1  \n",
       "3                     0.167   21        0  \n",
       "4                     2.288   33        1  "
      ]
     },
     "execution_count": 3,
     "metadata": {},
     "output_type": "execute_result"
    }
   ],
   "source": [
    "df.head()"
   ]
  },
  {
   "cell_type": "markdown",
   "metadata": {},
   "source": [
    "El tamaño del data frame con el que trabajaremos es:"
   ]
  },
  {
   "cell_type": "code",
   "execution_count": 4,
   "metadata": {},
   "outputs": [
    {
     "name": "stdout",
     "output_type": "stream",
     "text": [
      "(768, 9)\n"
     ]
    }
   ],
   "source": [
    "print(df.shape)"
   ]
  },
  {
   "cell_type": "markdown",
   "metadata": {},
   "source": [
    "Utilizamos el método .info() para ver los datatypes y si hay celdas con contenido nulo (vacías)"
   ]
  },
  {
   "cell_type": "code",
   "execution_count": 5,
   "metadata": {},
   "outputs": [
    {
     "name": "stdout",
     "output_type": "stream",
     "text": [
      "<class 'pandas.core.frame.DataFrame'>\n",
      "RangeIndex: 768 entries, 0 to 767\n",
      "Data columns (total 9 columns):\n",
      " #   Column                    Non-Null Count  Dtype  \n",
      "---  ------                    --------------  -----  \n",
      " 0   Pregnancies               768 non-null    int64  \n",
      " 1   Glucose                   768 non-null    int64  \n",
      " 2   BloodPressure             768 non-null    int64  \n",
      " 3   SkinThickness             768 non-null    int64  \n",
      " 4   Insulin                   768 non-null    int64  \n",
      " 5   BMI                       768 non-null    float64\n",
      " 6   DiabetesPedigreeFunction  768 non-null    float64\n",
      " 7   Age                       768 non-null    int64  \n",
      " 8   Outcome                   768 non-null    int64  \n",
      "dtypes: float64(2), int64(7)\n",
      "memory usage: 54.1 KB\n"
     ]
    }
   ],
   "source": [
    "df.info()"
   ]
  },
  {
   "cell_type": "markdown",
   "metadata": {},
   "source": [
    "Con la siguiente linea contamos los valores nulos para el data frame. De esta manera chequeamos efectivamente que no hay datos vacíos para ninguna característica."
   ]
  },
  {
   "cell_type": "code",
   "execution_count": 6,
   "metadata": {},
   "outputs": [
    {
     "data": {
      "text/plain": [
       "Pregnancies                 0\n",
       "Glucose                     0\n",
       "BloodPressure               0\n",
       "SkinThickness               0\n",
       "Insulin                     0\n",
       "BMI                         0\n",
       "DiabetesPedigreeFunction    0\n",
       "Age                         0\n",
       "Outcome                     0\n",
       "dtype: int64"
      ]
     },
     "execution_count": 6,
     "metadata": {},
     "output_type": "execute_result"
    }
   ],
   "source": [
    "df.isnull().sum()"
   ]
  },
  {
   "cell_type": "markdown",
   "metadata": {},
   "source": [
    "Podemos utilizar el método describe para examinar como son los valores que se presentan dentro del dataframe.  "
   ]
  },
  {
   "cell_type": "code",
   "execution_count": 7,
   "metadata": {},
   "outputs": [
    {
     "data": {
      "text/html": [
       "<div>\n",
       "<style scoped>\n",
       "    .dataframe tbody tr th:only-of-type {\n",
       "        vertical-align: middle;\n",
       "    }\n",
       "\n",
       "    .dataframe tbody tr th {\n",
       "        vertical-align: top;\n",
       "    }\n",
       "\n",
       "    .dataframe thead th {\n",
       "        text-align: right;\n",
       "    }\n",
       "</style>\n",
       "<table border=\"1\" class=\"dataframe\">\n",
       "  <thead>\n",
       "    <tr style=\"text-align: right;\">\n",
       "      <th></th>\n",
       "      <th>Pregnancies</th>\n",
       "      <th>Glucose</th>\n",
       "      <th>BloodPressure</th>\n",
       "      <th>SkinThickness</th>\n",
       "      <th>Insulin</th>\n",
       "      <th>BMI</th>\n",
       "      <th>DiabetesPedigreeFunction</th>\n",
       "      <th>Age</th>\n",
       "      <th>Outcome</th>\n",
       "    </tr>\n",
       "  </thead>\n",
       "  <tbody>\n",
       "    <tr>\n",
       "      <th>count</th>\n",
       "      <td>768.000000</td>\n",
       "      <td>768.000000</td>\n",
       "      <td>768.000000</td>\n",
       "      <td>768.000000</td>\n",
       "      <td>768.000000</td>\n",
       "      <td>768.000000</td>\n",
       "      <td>768.000000</td>\n",
       "      <td>768.000000</td>\n",
       "      <td>768.000000</td>\n",
       "    </tr>\n",
       "    <tr>\n",
       "      <th>mean</th>\n",
       "      <td>3.845052</td>\n",
       "      <td>120.894531</td>\n",
       "      <td>69.105469</td>\n",
       "      <td>20.536458</td>\n",
       "      <td>79.799479</td>\n",
       "      <td>31.992578</td>\n",
       "      <td>0.471876</td>\n",
       "      <td>33.240885</td>\n",
       "      <td>0.348958</td>\n",
       "    </tr>\n",
       "    <tr>\n",
       "      <th>std</th>\n",
       "      <td>3.369578</td>\n",
       "      <td>31.972618</td>\n",
       "      <td>19.355807</td>\n",
       "      <td>15.952218</td>\n",
       "      <td>115.244002</td>\n",
       "      <td>7.884160</td>\n",
       "      <td>0.331329</td>\n",
       "      <td>11.760232</td>\n",
       "      <td>0.476951</td>\n",
       "    </tr>\n",
       "    <tr>\n",
       "      <th>min</th>\n",
       "      <td>0.000000</td>\n",
       "      <td>0.000000</td>\n",
       "      <td>0.000000</td>\n",
       "      <td>0.000000</td>\n",
       "      <td>0.000000</td>\n",
       "      <td>0.000000</td>\n",
       "      <td>0.078000</td>\n",
       "      <td>21.000000</td>\n",
       "      <td>0.000000</td>\n",
       "    </tr>\n",
       "    <tr>\n",
       "      <th>25%</th>\n",
       "      <td>1.000000</td>\n",
       "      <td>99.000000</td>\n",
       "      <td>62.000000</td>\n",
       "      <td>0.000000</td>\n",
       "      <td>0.000000</td>\n",
       "      <td>27.300000</td>\n",
       "      <td>0.243750</td>\n",
       "      <td>24.000000</td>\n",
       "      <td>0.000000</td>\n",
       "    </tr>\n",
       "    <tr>\n",
       "      <th>50%</th>\n",
       "      <td>3.000000</td>\n",
       "      <td>117.000000</td>\n",
       "      <td>72.000000</td>\n",
       "      <td>23.000000</td>\n",
       "      <td>30.500000</td>\n",
       "      <td>32.000000</td>\n",
       "      <td>0.372500</td>\n",
       "      <td>29.000000</td>\n",
       "      <td>0.000000</td>\n",
       "    </tr>\n",
       "    <tr>\n",
       "      <th>75%</th>\n",
       "      <td>6.000000</td>\n",
       "      <td>140.250000</td>\n",
       "      <td>80.000000</td>\n",
       "      <td>32.000000</td>\n",
       "      <td>127.250000</td>\n",
       "      <td>36.600000</td>\n",
       "      <td>0.626250</td>\n",
       "      <td>41.000000</td>\n",
       "      <td>1.000000</td>\n",
       "    </tr>\n",
       "    <tr>\n",
       "      <th>max</th>\n",
       "      <td>17.000000</td>\n",
       "      <td>199.000000</td>\n",
       "      <td>122.000000</td>\n",
       "      <td>99.000000</td>\n",
       "      <td>846.000000</td>\n",
       "      <td>67.100000</td>\n",
       "      <td>2.420000</td>\n",
       "      <td>81.000000</td>\n",
       "      <td>1.000000</td>\n",
       "    </tr>\n",
       "  </tbody>\n",
       "</table>\n",
       "</div>"
      ],
      "text/plain": [
       "       Pregnancies     Glucose  BloodPressure  SkinThickness     Insulin  \\\n",
       "count   768.000000  768.000000     768.000000     768.000000  768.000000   \n",
       "mean      3.845052  120.894531      69.105469      20.536458   79.799479   \n",
       "std       3.369578   31.972618      19.355807      15.952218  115.244002   \n",
       "min       0.000000    0.000000       0.000000       0.000000    0.000000   \n",
       "25%       1.000000   99.000000      62.000000       0.000000    0.000000   \n",
       "50%       3.000000  117.000000      72.000000      23.000000   30.500000   \n",
       "75%       6.000000  140.250000      80.000000      32.000000  127.250000   \n",
       "max      17.000000  199.000000     122.000000      99.000000  846.000000   \n",
       "\n",
       "              BMI  DiabetesPedigreeFunction         Age     Outcome  \n",
       "count  768.000000                768.000000  768.000000  768.000000  \n",
       "mean    31.992578                  0.471876   33.240885    0.348958  \n",
       "std      7.884160                  0.331329   11.760232    0.476951  \n",
       "min      0.000000                  0.078000   21.000000    0.000000  \n",
       "25%     27.300000                  0.243750   24.000000    0.000000  \n",
       "50%     32.000000                  0.372500   29.000000    0.000000  \n",
       "75%     36.600000                  0.626250   41.000000    1.000000  \n",
       "max     67.100000                  2.420000   81.000000    1.000000  "
      ]
     },
     "execution_count": 7,
     "metadata": {},
     "output_type": "execute_result"
    }
   ],
   "source": [
    "df.describe()"
   ]
  },
  {
   "cell_type": "markdown",
   "metadata": {},
   "source": [
    "En particular, se puede notar a partir de la tabla realizada que los valores mínimos en algunas columnas tienen valor cero. En algunos casos como por ejemplo en la presión sanguínea, dicho valor carece de sentido físico para una persona viva. Por lo tanto se concluyó que se trata de datos erróneos los cuales deberán ser tratados en la etapa de limpieza de datos. "
   ]
  },
  {
   "cell_type": "markdown",
   "metadata": {},
   "source": [
    "A continuación se estudian las cantidades de los casos que tienen y que no tienen diabetes. Posteriormente, se imprimen en un Pie Plot las proporciones con respecto al total de los casos."
   ]
  },
  {
   "cell_type": "code",
   "execution_count": 8,
   "metadata": {},
   "outputs": [
    {
     "name": "stdout",
     "output_type": "stream",
     "text": [
      "Healthy people: 500\n",
      "Sick people: 268\n",
      "Total: 768\n"
     ]
    }
   ],
   "source": [
    "healthy_people_num = (df['Outcome'] == 0).sum()\n",
    "sick_people_num = (df['Outcome'] != 0).sum()\n",
    "total = df.shape[0]\n",
    "print(\"Healthy people: \" + str(healthy_people_num))\n",
    "print(\"Sick people: \" + str(sick_people_num))\n",
    "print(\"Total: \" + str(total))"
   ]
  },
  {
   "cell_type": "code",
   "execution_count": 12,
   "metadata": {},
   "outputs": [
    {
     "data": {
      "image/png": "[encoded data removed]",
      "text/plain": [
       "<Figure size 504x504 with 1 Axes>"
      ]
     },
     "metadata": {},
     "output_type": "display_data"
    }
   ],
   "source": [
    "sns.set(style=\"whitegrid\")\n",
    "labels = ['No Diabéticos', 'Diabétos']\n",
    "sizes = [healthy_people_num,sick_people_num]\n",
    "colors = [\"green\",\"red\"]\n",
    "plt.figure(figsize=(7,7))\n",
    "plt.pie(sizes, labels=labels, explode= (0.01,0) , colors=colors, autopct='%1.1f%%', shadow=True, startangle=90, pctdistance=0.8)\n",
    "\n",
    "plt.title('Porcentaje de diabéticos.')\n",
    "plt.show()"
   ]
  },
  {
   "cell_type": "markdown",
   "metadata": {},
   "source": [
    "A partir del gráfico anterior se distingue que el grupo de casos con diabetes versus los casos de no diabetes no se encuentra balanceado. Es decir, en nuestro dataframe hay mayor cantidad de personas sanas que con diabetes."
   ]
  },
  {
   "cell_type": "markdown",
   "metadata": {},
   "source": [
    "### Limpieza de los datos\n",
    "\n",
    "Anteriormente, se consideró la gran cantidad de datos que tiene valor cero. Para tratar con estos datos, se los reemplaza en primera medida por valores nulos (NaN) y posteriormente serán modificados."
   ]
  },
  {
   "cell_type": "code",
   "execution_count": 41,
   "metadata": {},
   "outputs": [],
   "source": [
    "df[['Glucose','BloodPressure','SkinThickness','Insulin','BMI']] = df[['Glucose','BloodPressure','SkinThickness','Insulin','BMI']].replace(0,np.NaN)"
   ]
  },
  {
   "cell_type": "markdown",
   "metadata": {},
   "source": [
    "Ahora, se cuenta la cantidad de elementos nulos para cada columna. Estos son aquellos elementos que anteriormente valían cero, un valor que no era posible."
   ]
  },
  {
   "cell_type": "code",
   "execution_count": 42,
   "metadata": {},
   "outputs": [
    {
     "data": {
      "text/plain": [
       "Pregnancies                   0\n",
       "Glucose                       5\n",
       "BloodPressure                35\n",
       "SkinThickness               227\n",
       "Insulin                     374\n",
       "BMI                          11\n",
       "DiabetesPedigreeFunction      0\n",
       "Age                           0\n",
       "Outcome                       0\n",
       "dtype: int64"
      ]
     },
     "execution_count": 42,
     "metadata": {},
     "output_type": "execute_result"
    }
   ],
   "source": [
    "df.isnull().sum()"
   ]
  },
  {
   "cell_type": "markdown",
   "metadata": {},
   "source": [
    "### Separación Train y Test"
   ]
  },
  {
   "cell_type": "code",
   "execution_count": 43,
   "metadata": {},
   "outputs": [],
   "source": [
    "np.random.seed(0)\n",
    "msk = np.random.rand(len(df)) < 0.8\n",
    "train_val_df = df[msk]\n",
    "test_data = df[~msk]"
   ]
  },
  {
   "cell_type": "markdown",
   "metadata": {},
   "source": [
    "### Definición de funciones"
   ]
  },
  {
   "cell_type": "code",
   "execution_count": 44,
   "metadata": {},
   "outputs": [],
   "source": [
    "import math\n",
    "\n",
    "def calculate_gaussian_likelihood(x, mean_std):\n",
    "\t\"\"\"\n",
    "\tDevuelve el likelihood asociado a una variable dado una media y un desvío estándar.\n",
    "\tRecibe:\n",
    "\t\t1. x: valor de la variable.\n",
    "\t\t2. mean_std: tupla, lista o np array cuyo primer elemento corresponde a la media y su segundo elemento al desvío estándar.\n",
    "\t\"\"\"\n",
    "\tmean = mean_std[0]\n",
    "\tstdev = mean_std[1]\n",
    "\texponent = math.exp(-((x-mean)**2 / (2 * stdev**2 )))\n",
    "\treturn (1 / (math.sqrt(2 * math.pi) * stdev)) * exponent"
   ]
  },
  {
   "cell_type": "code",
   "execution_count": 45,
   "metadata": {},
   "outputs": [],
   "source": [
    "def calculate_mean_std(set_df, column, outcome):\n",
    "    \"\"\"\n",
    "    Calcula la media y el desvío estándar de una columna de un dataframe para aquellas filas donde el outcome tome un valor determinado.\n",
    "    Recibe: \n",
    "        1. set_df: Dataframe.\n",
    "        2. column: Nombre de la columna cuyas media y stdev se buscan.\n",
    "        3. outcome: Valor del outcome sobre el cual se filtra el data set.\n",
    "    Devuelve:\n",
    "        np array cuyo primer elemento es la media y el segundo elemento el desvío estándar.\n",
    "    \"\"\"\n",
    "    filtered_df = set_df[[column, 'Outcome']].groupby(['Outcome'])[[column]]\n",
    "    mean = filtered_df.mean().reset_index().iloc[outcome,1]\n",
    "    std = filtered_df.std().reset_index().iloc[outcome,1]\n",
    "    return np.array([mean, std])"
   ]
  },
  {
   "cell_type": "code",
   "execution_count": 46,
   "metadata": {},
   "outputs": [],
   "source": [
    "def train_model(train_df):\n",
    "    \"\"\"\n",
    "    Función que entrena al modelo dado un DataFrame de entrenamiento.\n",
    "    Recibe:\n",
    "        1. train_df: DF de entrenamiento.\n",
    "    Devuelve:\n",
    "        *   Matriz de 2 x {Cantidad de columnas del dataframe - 1}.\n",
    "            Cada celda de la matriz contiene un np array cuyo primer elemento es la media y el segundo elemento el desvío estándar para cada columna y para cada posible outcome.\n",
    "            La primera fila de la matriz corresponde al outcome 0 y la segunda fila al outcome 1.\n",
    "            Cada columna de la matriz está asociada a cada columna del dataframe (excepto la columna de outcome).\n",
    "        *   Priori_probs: Lista con las probabilidades a priori para outcome 0 y outcome 1.\n",
    "    \"\"\"\n",
    "    healthy_p_train = (train_df['Outcome'] == 0).sum()\n",
    "    sick_p_train = (train_df['Outcome'] != 0).sum()\n",
    "    total = train_df.shape[0]\n",
    "    priori_probs = [healthy_p_train / (healthy_p_train + sick_p_train), sick_p_train / (healthy_p_train + sick_p_train)]\n",
    "    train_matrix =  np.empty([2, len(train_df.columns)-1], dtype = object)\n",
    "    for ind, column in enumerate(train_df.columns):\n",
    "        if (ind != train_df.columns.get_loc(\"Outcome\")):\n",
    "            train_matrix[0][ind] = calculate_mean_std(train_df, train_df.columns[ind], 0)\n",
    "            train_matrix[1][ind] = calculate_mean_std(train_df, train_df.columns[ind], 1)\n",
    "    return train_matrix, priori_probs"
   ]
  },
  {
   "cell_type": "code",
   "execution_count": 47,
   "metadata": {},
   "outputs": [],
   "source": [
    "def pred(row, matrix, priori_probs):\n",
    "    \"\"\"\n",
    "    Función que dada una fila correspondiente a una muestra de un individuo, una matriz entrenada (con los valores de las medias y desvíos estándar) y las probabilidad a priori de cada outcome, calcula si es más probable que el individuo posea diabetes o no.\n",
    "    Recibe:\n",
    "        1. Row: Fila con los valores de las características de un individuo. Cada elemento está asociado a una columna del dataframe de entrenamiento utilizado.\n",
    "        2. Matrix: Matriz resultante de la función train_model.\n",
    "        3. Priori_probs: Lista con las probabilidades a priori para outcome 0 y outcome 1.\n",
    "    Devuelve:\n",
    "        Valor (0 o 1) más probable para el outcome.\n",
    "    \"\"\"\n",
    "    likelihoods_0 = np.array([])\n",
    "    likelihoods_1 = np.array([])\n",
    "    for ind, column in enumerate(row):\n",
    "        likelihoods_0 = np.append(likelihoods_0, math.log(calculate_gaussian_likelihood(column, matrix[0][ind])))\n",
    "        likelihoods_1 = np.append(likelihoods_1, math.log(calculate_gaussian_likelihood(column, matrix[1][ind])))\n",
    "    prob_0 = likelihoods_0.sum()\n",
    "    prob_1 = likelihoods_1.sum()\n",
    "    prob_0 += math.log(priori_probs[0])\n",
    "    prob_1 += math.log(priori_probs[1])\n",
    "    if(prob_1 >= prob_0):\n",
    "        return 1.0\n",
    "    else:\n",
    "        return 0.0"
   ]
  },
  {
   "cell_type": "code",
   "execution_count": 48,
   "metadata": {},
   "outputs": [],
   "source": [
    "from sklearn import metrics\n",
    "import numpy as np\n",
    "from sklearn.model_selection import KFold\n",
    "def k_folding(df, columnsToReplaceNulls = [], removeCols = []):\n",
    "    \"\"\"\n",
    "    Función que dado un dataframe realiza un k-folding con k=5.\n",
    "    Recibe:\n",
    "        Dataframe\n",
    "    Devuelve:\n",
    "        Lista que contiene a las matrices de confusión para cada k_i paso.\n",
    "    \"\"\"\n",
    "    dataframe = df.copy()\n",
    "    kf = KFold(n_splits = 5)\n",
    "    sub_sets = kf.split(dataframe)\n",
    "    conf_matrix = []\n",
    "    train_aucs = []\n",
    "    val_aucs = []\n",
    "    models = []\n",
    "    replaceNullsCols = [n for n in columnsToReplaceNulls if n not in removeCols]\n",
    "    dataframe = dataframe.drop(removeCols, axis=1)\n",
    "\n",
    "    for train_index, val_index in sub_sets: \n",
    "        train_outcomes = []\n",
    "        val_outcomes = []\n",
    "        pred_train_outcomes = []\n",
    "        pred_val_outcomes = []\n",
    "        train_df = dataframe.iloc[train_index]\n",
    "        val_df = dataframe.iloc[val_index]\n",
    "\n",
    "        ##Reemplazo nulos\n",
    "        medians = train_df[replaceNullsCols].median()\n",
    "        train_df[replaceNullsCols] = train_df[replaceNullsCols].replace(np.NaN,medians)\n",
    "        val_df[replaceNullsCols] = val_df[replaceNullsCols].replace(np.NaN,medians)\n",
    "\n",
    "        matrix_train, priori_probs = train_model(train_df)\n",
    "        model =[medians, matrix_train, priori_probs]\n",
    "        models.append(model)\n",
    "        ## Train\n",
    "        for index, row in train_df.iterrows():\n",
    "            true_outcome = row[\"Outcome\"]\n",
    "            pred_outcome = pred(row.to_list()[:-1], matrix_train, priori_probs)\n",
    "            train_outcomes.append(true_outcome)\n",
    "            pred_train_outcomes.append(pred_outcome)\n",
    "\n",
    "        ## Validacion\n",
    "        for index, row in val_df.iterrows():\n",
    "            true_outcome = row[\"Outcome\"]\n",
    "            pred_outcome = pred(row.to_list()[:-1], matrix_train, priori_probs)\n",
    "            val_outcomes.append(true_outcome)\n",
    "            pred_val_outcomes.append(pred_outcome)\n",
    "\n",
    "        fpr_train, tpr_train, thresholds_train = metrics.roc_curve(train_outcomes, pred_train_outcomes)\n",
    "        auc_train_i = metrics.auc(fpr_train, tpr_train)\n",
    "\n",
    "        fpr_val, tpr_val, thresholds_val = metrics.roc_curve(val_outcomes, pred_val_outcomes)\n",
    "        auc_val_i = metrics.auc(fpr_val, tpr_val)\n",
    "\n",
    "        val_aucs.append(auc_val_i)\n",
    "        train_aucs.append(auc_train_i)\n",
    "        \n",
    "        conf_matrix.append(metrics.confusion_matrix(val_outcomes, pred_val_outcomes))\n",
    "    return conf_matrix, train_aucs, val_aucs, models\n"
   ]
  },
  {
   "cell_type": "code",
   "execution_count": 49,
   "metadata": {},
   "outputs": [],
   "source": [
    "def plot_all_conf_matrix(conf_matrix):\n",
    "    \"\"\"\n",
    "    Función que dada una lista de matrices de confusión, realiza el gráfico para cada una de ellas.\n",
    "    \"\"\"\n",
    "    for matrix in conf_matrix:\n",
    "        ylabel = [\"Actual [Non-Diabetic]\",\"Actual [Diabetic]\"]\n",
    "        xlabel = [\"Pred [Non-Diabetic]\",\"Pred [Diabetic]\"]\n",
    "        sns.set(font_scale = 1.5)\n",
    "        plt.figure(figsize=(15,6))\n",
    "        sns.heatmap(matrix, annot=True, xticklabels = xlabel, yticklabels = ylabel, linecolor='white', linewidths=1)\n",
    "        plt.yticks(rotation=0);"
   ]
  },
  {
   "cell_type": "markdown",
   "metadata": {},
   "source": [
    "## Pruebas\n",
    "### Sin reemplazar nulos"
   ]
  },
  {
   "cell_type": "code",
   "execution_count": 50,
   "metadata": {},
   "outputs": [],
   "source": [
    "conf_matrix_nr, train_aucs_nr, val_aucs_nr, models_nr = k_folding(train_val_df)"
   ]
  },
  {
   "cell_type": "code",
   "execution_count": 51,
   "metadata": {},
   "outputs": [
    {
     "name": "stdout",
     "output_type": "stream",
     "text": [
      "AUC Train: 0.623\n",
      "AUC Validation: 0.63\n"
     ]
    }
   ],
   "source": [
    "print('AUC Train: ' + str(round(np.array(train_aucs_nr).mean(),3)))\n",
    "print('AUC Validation: ' + str(round(np.array(val_aucs_nr).mean(),3)))"
   ]
  },
  {
   "cell_type": "markdown",
   "metadata": {},
   "source": [
    "### Reemplazando nulos"
   ]
  },
  {
   "cell_type": "code",
   "execution_count": 52,
   "metadata": {},
   "outputs": [],
   "source": [
    "conf_matrix, train_aucs, val_aucs, models = k_folding(train_val_df,  ['Glucose','BloodPressure','SkinThickness','Insulin','BMI'])"
   ]
  },
  {
   "cell_type": "code",
   "execution_count": 53,
   "metadata": {},
   "outputs": [
    {
     "name": "stdout",
     "output_type": "stream",
     "text": [
      "AUC Train: 0.727\n",
      "AUC Validation: 0.73\n"
     ]
    }
   ],
   "source": [
    "print('AUC Train: ' + str(round(np.array(train_aucs).mean(),3)))\n",
    "print('AUC Validation: ' + str(round(np.array(val_aucs).mean(),3)))"
   ]
  },
  {
   "cell_type": "markdown",
   "metadata": {},
   "source": [
    "### Eliminando columnas"
   ]
  },
  {
   "cell_type": "code",
   "execution_count": 54,
   "metadata": {},
   "outputs": [
    {
     "name": "stdout",
     "output_type": "stream",
     "text": [
      "BloodPressure\n",
      "Insulin\n",
      "Age\n",
      "DiabetesPedigreeFunction\n",
      "Pregnancies\n",
      "SkinThickness\n"
     ]
    }
   ],
   "source": [
    "bestAuc = np.array(val_aucs).mean()\n",
    "# Columnas a analizar\n",
    "tryRemovingCols = ['BloodPressure', 'Insulin', 'Age', 'DiabetesPedigreeFunction', 'Pregnancies', 'SkinThickness']\n",
    "removeColsImproved = []\n",
    "removeColsAuc = []\n",
    "removeColsAucTrain = []\n",
    "\n",
    "nullCols = ['Glucose','BloodPressure','SkinThickness','Insulin','BMI']\n",
    "\t\t\n",
    "for col in tryRemovingCols:\n",
    "\tprint(col)\t\n",
    "\tconf_matrix_col, train_aucs_col, val_aucs_col, models_col = k_folding(train_val_df, columnsToReplaceNulls=nullCols, removeCols=[col])\n",
    "\t# Si la métrica mejora se guarda la columna a remover.\n",
    "\tif (np.array(val_aucs_col).mean() > bestAuc):\n",
    "\t\tremoveColsImproved.append(col)\n",
    "\t\tremoveColsAucTrain.append(np.array(train_aucs_col).mean())\n",
    "\t\tremoveColsAuc.append(np.array(val_aucs_col).mean())"
   ]
  },
  {
   "cell_type": "code",
   "execution_count": 55,
   "metadata": {},
   "outputs": [
    {
     "name": "stdout",
     "output_type": "stream",
     "text": [
      "['BloodPressure', 'SkinThickness']\n",
      "Train AUCs:\n",
      "[0.728 0.732]\n",
      "Val AUCs:\n",
      "[0.731 0.731]\n"
     ]
    }
   ],
   "source": [
    "# Se imprimen las columnas que al removerlas aumentaron la métrica.\n",
    "print(removeColsImproved)\n",
    "print(\"Train AUCs:\")\n",
    "print(np.array(removeColsAucTrain).round(3))\n",
    "print('Val AUCs:')\n",
    "print(np.array(removeColsAuc).round(3))"
   ]
  },
  {
   "cell_type": "markdown",
   "metadata": {},
   "source": [
    "### Eliminando todas las columnas anteriores"
   ]
  },
  {
   "cell_type": "code",
   "execution_count": 56,
   "metadata": {},
   "outputs": [],
   "source": [
    "conf_matrix_rac, train_aucs_rac, val_aucs_rac, models_rac = k_folding(train_val_df,  ['Glucose','BloodPressure','SkinThickness','Insulin','BMI'], removeCols=removeColsImproved)"
   ]
  },
  {
   "cell_type": "code",
   "execution_count": 57,
   "metadata": {},
   "outputs": [
    {
     "name": "stdout",
     "output_type": "stream",
     "text": [
      "AUC Train: 0.73\n",
      "AUC Validation: 0.736\n"
     ]
    }
   ],
   "source": [
    "print('AUC Train: ' + str(round(np.array(train_aucs_rac).mean(),3)))\n",
    "print('AUC Validation: ' + str(round(np.array(val_aucs_rac).mean(),3)))"
   ]
  },
  {
   "cell_type": "markdown",
   "metadata": {},
   "source": [
    "## Selección del modelo"
   ]
  },
  {
   "cell_type": "code",
   "execution_count": 69,
   "metadata": {},
   "outputs": [
    {
     "name": "stdout",
     "output_type": "stream",
     "text": [
      "Prueba                                                     AUC Train    AUC Validation\n",
      "-------------------------------------------------------  -----------  ----------------\n",
      "Sin reemplazar nulos                                           0.623             0.63\n",
      "Reemplazando nulos por mediana (RNM)                           0.727             0.73\n",
      "RNM + Eliminando columna BloodPressure                         0.728             0.731\n",
      "RNM + Eliminando columna SkinThickness                         0.732             0.731\n",
      "RNM + Eliminando columnas BloodPressure y SkinThickness        0.73              0.736\n"
     ]
    }
   ],
   "source": [
    "from tabulate import tabulate\n",
    "\n",
    "table=[[\"Sin reemplazar nulos\",round(np.array(train_aucs_nr).mean(),3),round(np.array(val_aucs_nr).mean(),3)],\n",
    "      [\"Reemplazando nulos por mediana (RNM)\",round(np.array(train_aucs).mean(),3),round(np.array(val_aucs).mean(),3)],\n",
    "      [\"RNM + Eliminando columna BloodPressure\",np.array(removeColsAucTrain).round(3)[0],np.array(removeColsAuc).round(3)[0]],\n",
    "      [\"RNM + Eliminando columna SkinThickness\",np.array(removeColsAucTrain).round(3)[1],np.array(removeColsAuc).round(3)[1]],\n",
    "      [\"RNM + Eliminando columnas BloodPressure y SkinThickness\",round(np.array(train_aucs_rac).mean(),3),round(np.array(val_aucs_rac).mean(),3)]\n",
    "       ]\n",
    "\n",
    "print(tabulate(table, headers=[\"Prueba\",\"AUC Train\", \"AUC Validation\"]))"
   ]
  },
  {
   "cell_type": "markdown",
   "metadata": {},
   "source": [
    "A partir de la tabla anterior se observa que la mejor métrica de validación se obtuvo reemplazando los valores nulos por la mediana de la columna correspondiente y eliminando las columnas de BloodPressure y SkinThickness. Por esta razón, seleccionamos dicho modelo para continuar el análisis.\n",
    "\n",
    "Por otra parte, dado que las métricas de Train y Validation son similares, no se aprecia Overfitting."
   ]
  },
  {
   "cell_type": "markdown",
   "metadata": {},
   "source": [
    "## Test"
   ]
  },
  {
   "cell_type": "code",
   "execution_count": 60,
   "metadata": {},
   "outputs": [],
   "source": [
    "## Test\n",
    "aucs_test = []\n",
    "for model in models_rac:\n",
    "    ##Reemplazo nulos.\n",
    "    test_dataframe = test_data.copy()\n",
    "    columnsWithNulls = ['Glucose','BloodPressure','SkinThickness','Insulin','BMI']\n",
    "    test_dataframe[columnsWithNulls] = test_dataframe[columnsWithNulls].replace(np.NaN,model[0])\n",
    "    ##Se eliminan columnas.\n",
    "    test_dataframe = test_dataframe.drop(removeColsImproved, axis=1)\n",
    "\n",
    "    true_test_outcomes = []\n",
    "    pred_test_outcomes = []\n",
    "\n",
    "    for index, row in test_dataframe.iterrows():\n",
    "        true_outcome = row[\"Outcome\"]\n",
    "        pred_outcome = pred(row.to_list()[:-1], model[1], model[2])\n",
    "        true_test_outcomes.append(true_outcome)\n",
    "        pred_test_outcomes.append(pred_outcome)\n",
    "\n",
    "    fpr_test, tpr_test, thresholds_test = metrics.roc_curve(true_test_outcomes, pred_test_outcomes)\n",
    "    auc_test_i = metrics.auc(fpr_test, tpr_test)\n",
    "    aucs_test.append(auc_test_i)\n"
   ]
  },
  {
   "cell_type": "markdown",
   "metadata": {},
   "source": [
    "## Resultado"
   ]
  },
  {
   "cell_type": "code",
   "execution_count": 61,
   "metadata": {},
   "outputs": [
    {
     "name": "stdout",
     "output_type": "stream",
     "text": [
      "AUC Test: 0.693\n"
     ]
    }
   ],
   "source": [
    "print('AUC Test: ' + str(round(np.array(aucs_test).mean(),3)))"
   ]
  },
  {
   "cell_type": "markdown",
   "metadata": {},
   "source": [
    "Finalmente, se obtuvo una métrica en Test de 0.693. Si se compara esto con lo resultante de Train y Validation (0.73 y 0.736 respectivamente) se aprecia que su valor no se redujo significativamente. De esta manera se considera que el modelo funciona correctamente y no hay evidencia de Overfitting."
   ]
  }
 ],
 "metadata": {
  "interpreter": {
   "hash": "35d319f83ab08ecd497627408ea36f4ad0a0ef0ec31f33b5bf93fec9ccad80dc"
  },
  "kernelspec": {
   "display_name": "Python 3",
   "language": "python",
   "name": "python3"
  },
  "language_info": {
   "codemirror_mode": {
    "name": "ipython",
    "version": 3
   },
   "file_extension": ".py",
   "mimetype": "text/x-python",
   "name": "python",
   "nbconvert_exporter": "python",
   "pygments_lexer": "ipython3",
   "version": "3.8.5"
  }
 },
 "nbformat": 4,
 "nbformat_minor": 4
}
