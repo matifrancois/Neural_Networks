{
 "cells": [
  {
   "cell_type": "markdown",
   "metadata": {},
   "source": [
    "## Red con Feature Learning\n",
    "Con esta red se obtuvo un Accuracy en Test de 0.797, el mejor valor obtenido. La red realiza Transfer Learning con EfficientNetB0 y agrega una capa densa a la salida."
   ]
  },
  {
   "cell_type": "code",
   "execution_count": 1,
   "metadata": {
    "_cell_guid": "b1076dfc-b9ad-4769-8c92-a6c4dae69d19",
    "_uuid": "8f2839f25d086af736a60e9eeb907d3b93b6e0e5",
    "execution": {
     "iopub.execute_input": "2021-06-27T20:06:37.334524Z",
     "iopub.status.busy": "2021-06-27T20:06:37.334176Z",
     "iopub.status.idle": "2021-06-27T20:06:37.345486Z",
     "shell.execute_reply": "2021-06-27T20:06:37.344666Z",
     "shell.execute_reply.started": "2021-06-27T20:06:37.334454Z"
    }
   },
   "outputs": [
    {
     "name": "stdout",
     "output_type": "stream",
     "text": [
      "/kaggle/input/rn2021q1itba-cifar100/submission_example.csv\n",
      "/kaggle/input/rn2021q1itba-cifar100/y_train.npy\n",
      "/kaggle/input/rn2021q1itba-cifar100/x_test.npy\n",
      "/kaggle/input/rn2021q1itba-cifar100/x_train.npy\n"
     ]
    }
   ],
   "source": [
    "# This Python 3 environment comes with many helpful analytics libraries installed\n",
    "# It is defined by the kaggle/python Docker image: https://github.com/kaggle/docker-python\n",
    "# For example, here's several helpful packages to load\n",
    "\n",
    "import numpy as np # linear algebra\n",
    "import pandas as pd # data processing, CSV file I/O (e.g. pd.read_csv)\n",
    "\n",
    "# Input data files are available in the read-only \"../input/\" directory\n",
    "# For example, running this (by clicking run or pressing Shift+Enter) will list all files under the input directory\n",
    "\n",
    "import os\n",
    "for dirname, _, filenames in os.walk('/kaggle/input'):\n",
    "    for filename in filenames:\n",
    "        print(os.path.join(dirname, filename))\n",
    "\n",
    "# You can write up to 20GB to the current directory (/kaggle/working/) that gets preserved as output when you create a version using \"Save & Run All\" \n",
    "# You can also write temporary files to /kaggle/temp/, but they won't be saved outside of the current session"
   ]
  },
  {
   "cell_type": "code",
   "execution_count": 2,
   "metadata": {
    "execution": {
     "iopub.execute_input": "2021-06-27T20:06:59.001724Z",
     "iopub.status.busy": "2021-06-27T20:06:59.001351Z",
     "iopub.status.idle": "2021-06-27T20:07:05.871621Z",
     "shell.execute_reply": "2021-06-27T20:07:05.870639Z",
     "shell.execute_reply.started": "2021-06-27T20:06:59.001691Z"
    }
   },
   "outputs": [],
   "source": [
    "import os\n",
    "import cv2\n",
    "import numpy as np\n",
    "import matplotlib.pyplot as plt\n",
    "\n",
    "import keras\n",
    "import keras.backend as K\n",
    "from keras.datasets import cifar100\n",
    "from keras.models import Sequential\n",
    "from keras.layers import Dense, Dropout, BatchNormalization, Flatten, GlobalMaxPooling2D, GlobalAveragePooling2D\n",
    "from keras.optimizers import Adam, SGD\n",
    "from keras.callbacks import EarlyStopping, ReduceLROnPlateau\n",
    "from keras.preprocessing.image import ImageDataGenerator\n",
    "from keras.utils import to_categorical\n",
    "\n",
    "import albumentations as albu\n",
    "from sklearn.model_selection import train_test_split, StratifiedShuffleSplit\n",
    "from sklearn.metrics import accuracy_score"
   ]
  },
  {
   "cell_type": "markdown",
   "metadata": {},
   "source": [
    "### Parámetros"
   ]
  },
  {
   "cell_type": "code",
   "execution_count": 3,
   "metadata": {
    "execution": {
     "iopub.execute_input": "2021-06-27T20:07:08.986884Z",
     "iopub.status.busy": "2021-06-27T20:07:08.986542Z",
     "iopub.status.idle": "2021-06-27T20:07:08.992059Z",
     "shell.execute_reply": "2021-06-27T20:07:08.991162Z",
     "shell.execute_reply.started": "2021-06-27T20:07:08.986851Z"
    }
   },
   "outputs": [],
   "source": [
    "n_classes = 100\n",
    "# Parameters for training\n",
    "epochs = 25\n",
    "batch_size = 8"
   ]
  },
  {
   "cell_type": "markdown",
   "metadata": {},
   "source": [
    "### Importación de datos"
   ]
  },
  {
   "cell_type": "code",
   "execution_count": null,
   "metadata": {},
   "outputs": [],
   "source": [
    "X = np.load(\"/kaggle/input/rn2021q1itba-cifar100/x_train.npy\")\n",
    "X_test = np.load(\"/kaggle/input/rn2021q1itba-cifar100/x_test.npy\")\n",
    "y = np.load(\"/kaggle/input/rn2021q1itba-cifar100/y_train.npy\")"
   ]
  },
  {
   "cell_type": "code",
   "execution_count": 6,
   "metadata": {
    "execution": {
     "iopub.execute_input": "2021-06-27T20:07:22.393049Z",
     "iopub.status.busy": "2021-06-27T20:07:22.392699Z",
     "iopub.status.idle": "2021-06-27T20:07:27.438082Z",
     "shell.execute_reply": "2021-06-27T20:07:27.437219Z",
     "shell.execute_reply.started": "2021-06-27T20:07:22.393016Z"
    }
   },
   "outputs": [],
   "source": [
    "##### División entre train y validación\n",
    "from sklearn.model_selection import train_test_split\n",
    "\n",
    "X_train, X_val, y_train, y_val = train_test_split(\n",
    "     X, y, test_size=0.20, random_state=42, stratify=y)"
   ]
  },
  {
   "cell_type": "markdown",
   "metadata": {},
   "source": [
    "### Red de clasificación\n",
    "#### Data Augmentation"
   ]
  },
  {
   "cell_type": "code",
   "execution_count": 9,
   "metadata": {
    "execution": {
     "iopub.execute_input": "2021-06-27T20:07:41.075971Z",
     "iopub.status.busy": "2021-06-27T20:07:41.075632Z",
     "iopub.status.idle": "2021-06-27T20:07:41.079959Z",
     "shell.execute_reply": "2021-06-27T20:07:41.079032Z",
     "shell.execute_reply.started": "2021-06-27T20:07:41.075940Z"
    }
   },
   "outputs": [],
   "source": [
    "# Función para cambiar el tamaño de la imagen al tamaño necesario utilizando interpolación bicubic.\n",
    "def np_resize(img, shape):\n",
    "    return cv2.resize(img, \n",
    "        (shape[1], shape[0]), i\n",
    "        nterpolation = cv2.INTER_CUBIC)"
   ]
  },
  {
   "cell_type": "code",
   "execution_count": null,
   "metadata": {},
   "outputs": [],
   "source": [
    "# Custom Data Generator\n",
    "class DataGenerator(keras.utils.Sequence):\n",
    "    'Generates data for keras'\n",
    "    def __init__(self, images , labels = None, mode = 'fit', batch_size = batch_size,\n",
    "                 dim = (224, 224), channels = 3, n_classes = 100,\n",
    "                 shuffle = True, augment = False):\n",
    "        self.images = images\n",
    "        self.labels = labels\n",
    "        self.mode = mode\n",
    "        self.batch_size = batch_size\n",
    "        self.dim = dim\n",
    "        self.channels = channels\n",
    "        self.n_classes = n_classes\n",
    "        self.shuffle = shuffle\n",
    "        self.augment = augment\n",
    "        \n",
    "        self.on_epoch_end()\n",
    "        \n",
    "    def on_epoch_end(self):\n",
    "        'Updates indexes after each epoch'\n",
    "        self.indexes = np.arange(self.images.shape[0])\n",
    "        if self.shuffle == True:\n",
    "            np.random.shuffle(self.indexes)\n",
    "            \n",
    "    def __len__(self):\n",
    "        'Denotes the number of batches per epoch'\n",
    "        return int(np.floor(len(self.images) / self.batch_size))\n",
    "        \n",
    "    def __getitem__(self, index):\n",
    "        'Generate one batch of data'\n",
    "        batch_indexes = self.indexes[index*self.batch_size:(index+1)*self.batch_size]\n",
    "\n",
    "        # X\n",
    "        X = np.empty((self.batch_size, *self.dim, self.channels))\n",
    "        for i, ID in enumerate(batch_indexes):\n",
    "            # Generate a preprocessed image\n",
    "            img = self.images[ID]\n",
    "            img = img.astype(np.float32) / 255.\n",
    "            img = np_resize(img, self.dim)\n",
    "            X[i] = img\n",
    "            \n",
    "        # Y\n",
    "        if self.mode == 'fit':\n",
    "            y = self.labels[batch_indexes]\n",
    "            y = to_categorical(y, n_classes)\n",
    "\n",
    "            if self.augment == True:\n",
    "                X = self.__augment_batch(X)                \n",
    "            \n",
    "            return X,y\n",
    "        \n",
    "        elif self.mode == 'predict':\n",
    "            return X       \n",
    "            \n",
    "    def __random_transform(self, img):\n",
    "        composition = albu.Compose([albu.HorizontalFlip(p = 0.5),\n",
    "                                    albu.VerticalFlip(p = 0.5),\n",
    "                                    albu.GridDistortion(p = 0.2),\n",
    "                                    albu.ElasticTransform(p = 0.2)])\n",
    "        \n",
    "        return composition(image = img)['image']\n",
    "        \n",
    "    \n",
    "    def __augment_batch(self, img_batch):\n",
    "        for i in range(img_batch.shape[0]):\n",
    "            img_batch[i] = self.__random_transform(img_batch[i])\n",
    "            \n",
    "        return img_batch"
   ]
  },
  {
   "cell_type": "code",
   "execution_count": 11,
   "metadata": {
    "execution": {
     "iopub.execute_input": "2021-06-27T20:07:46.593962Z",
     "iopub.status.busy": "2021-06-27T20:07:46.593630Z",
     "iopub.status.idle": "2021-06-27T20:07:46.599411Z",
     "shell.execute_reply": "2021-06-27T20:07:46.598216Z",
     "shell.execute_reply.started": "2021-06-27T20:07:46.593931Z"
    }
   },
   "outputs": [],
   "source": [
    "train_generator = DataGenerator(X_train, y_train, augment = True)\n",
    "valid_generator = DataGenerator(X_val, y_val, augment = False)"
   ]
  },
  {
   "cell_type": "code",
   "execution_count": 12,
   "metadata": {
    "execution": {
     "iopub.execute_input": "2021-06-27T20:07:49.570878Z",
     "iopub.status.busy": "2021-06-27T20:07:49.570560Z",
     "iopub.status.idle": "2021-06-27T20:07:57.306921Z",
     "shell.execute_reply": "2021-06-27T20:07:57.305956Z",
     "shell.execute_reply.started": "2021-06-27T20:07:49.570847Z"
    }
   },
   "outputs": [
    {
     "name": "stdout",
     "output_type": "stream",
     "text": [
      "Collecting efficientnet\n",
      "  Downloading efficientnet-1.1.1-py3-none-any.whl (18 kB)\n",
      "Requirement already satisfied: scikit-image in /opt/conda/lib/python3.7/site-packages (from efficientnet) (0.18.1)\n",
      "Collecting keras-applications<=1.0.8,>=1.0.7\n",
      "  Downloading Keras_Applications-1.0.8-py3-none-any.whl (50 kB)\n",
      "\u001b[K     |████████████████████████████████| 50 kB 520 kB/s eta 0:00:01\n",
      "\u001b[?25hRequirement already satisfied: numpy>=1.9.1 in /opt/conda/lib/python3.7/site-packages (from keras-applications<=1.0.8,>=1.0.7->efficientnet) (1.19.5)\n",
      "Requirement already satisfied: h5py in /opt/conda/lib/python3.7/site-packages (from keras-applications<=1.0.8,>=1.0.7->efficientnet) (2.10.0)\n",
      "Requirement already satisfied: six in /opt/conda/lib/python3.7/site-packages (from h5py->keras-applications<=1.0.8,>=1.0.7->efficientnet) (1.15.0)\n",
      "Requirement already satisfied: networkx>=2.0 in /opt/conda/lib/python3.7/site-packages (from scikit-image->efficientnet) (2.5)\n",
      "Requirement already satisfied: PyWavelets>=1.1.1 in /opt/conda/lib/python3.7/site-packages (from scikit-image->efficientnet) (1.1.1)\n",
      "Requirement already satisfied: pillow!=7.1.0,!=7.1.1,>=4.3.0 in /opt/conda/lib/python3.7/site-packages (from scikit-image->efficientnet) (7.2.0)\n",
      "Requirement already satisfied: tifffile>=2019.7.26 in /opt/conda/lib/python3.7/site-packages (from scikit-image->efficientnet) (2021.4.8)\n",
      "Requirement already satisfied: imageio>=2.3.0 in /opt/conda/lib/python3.7/site-packages (from scikit-image->efficientnet) (2.9.0)\n",
      "Requirement already satisfied: scipy>=1.0.1 in /opt/conda/lib/python3.7/site-packages (from scikit-image->efficientnet) (1.5.4)\n",
      "Requirement already satisfied: matplotlib!=3.0.0,>=2.0.0 in /opt/conda/lib/python3.7/site-packages (from scikit-image->efficientnet) (3.4.1)\n",
      "Requirement already satisfied: pyparsing>=2.2.1 in /opt/conda/lib/python3.7/site-packages (from matplotlib!=3.0.0,>=2.0.0->scikit-image->efficientnet) (2.4.7)\n",
      "Requirement already satisfied: cycler>=0.10 in /opt/conda/lib/python3.7/site-packages (from matplotlib!=3.0.0,>=2.0.0->scikit-image->efficientnet) (0.10.0)\n",
      "Requirement already satisfied: python-dateutil>=2.7 in /opt/conda/lib/python3.7/site-packages (from matplotlib!=3.0.0,>=2.0.0->scikit-image->efficientnet) (2.8.1)\n",
      "Requirement already satisfied: kiwisolver>=1.0.1 in /opt/conda/lib/python3.7/site-packages (from matplotlib!=3.0.0,>=2.0.0->scikit-image->efficientnet) (1.3.1)\n",
      "Requirement already satisfied: decorator>=4.3.0 in /opt/conda/lib/python3.7/site-packages (from networkx>=2.0->scikit-image->efficientnet) (4.4.2)\n",
      "Installing collected packages: keras-applications, efficientnet\n",
      "Successfully installed efficientnet-1.1.1 keras-applications-1.0.8\n"
     ]
    }
   ],
   "source": [
    "!pip install -U efficientnet"
   ]
  },
  {
   "cell_type": "code",
   "execution_count": 13,
   "metadata": {
    "execution": {
     "iopub.execute_input": "2021-06-27T20:07:58.691393Z",
     "iopub.status.busy": "2021-06-27T20:07:58.691040Z",
     "iopub.status.idle": "2021-06-27T20:08:05.417652Z",
     "shell.execute_reply": "2021-06-27T20:08:05.416840Z",
     "shell.execute_reply.started": "2021-06-27T20:07:58.691358Z"
    }
   },
   "outputs": [
    {
     "name": "stdout",
     "output_type": "stream",
     "text": [
      "Downloading data from https://github.com/Callidior/keras-applications/releases/download/efficientnet/efficientnet-b0_weights_tf_dim_ordering_tf_kernels_autoaugment_notop.h5\n",
      "16809984/16804768 [==============================] - 2s 0us/step\n",
      "Model: \"sequential\"\n",
      "_________________________________________________________________\n",
      "Layer (type)                 Output Shape              Param #   \n",
      "=================================================================\n",
      "efficientnet-b0 (Functional) (None, 7, 7, 1280)        4049564   \n",
      "_________________________________________________________________\n",
      "global_average_pooling2d (Gl (None, 1280)              0         \n",
      "_________________________________________________________________\n",
      "dropout (Dropout)            (None, 1280)              0         \n",
      "_________________________________________________________________\n",
      "dense (Dense)                (None, 100)               128100    \n",
      "=================================================================\n",
      "Total params: 4,177,664\n",
      "Trainable params: 4,135,648\n",
      "Non-trainable params: 42,016\n",
      "_________________________________________________________________\n"
     ]
    }
   ],
   "source": [
    "import efficientnet.keras as efn \n",
    "\n",
    "#Transfer Learning\n",
    "efnb0 = efn.EfficientNetB0(weights = 'imagenet', include_top = False, classes = n_classes, input_shape = (224,224,3))\n",
    "\n",
    "model = Sequential()\n",
    "model.add(efnb0)\n",
    "model.add(GlobalAveragePooling2D())\n",
    "model.add(Dropout(0.2))\n",
    "model.add(Dense(n_classes, activation = 'softmax'))\n",
    "\n",
    "model.summary()"
   ]
  },
  {
   "cell_type": "markdown",
   "metadata": {},
   "source": [
    "#### Callbacks"
   ]
  },
  {
   "cell_type": "code",
   "execution_count": 14,
   "metadata": {
    "execution": {
     "iopub.execute_input": "2021-06-27T20:08:08.426542Z",
     "iopub.status.busy": "2021-06-27T20:08:08.426186Z",
     "iopub.status.idle": "2021-06-27T20:08:08.431301Z",
     "shell.execute_reply": "2021-06-27T20:08:08.430469Z",
     "shell.execute_reply.started": "2021-06-27T20:08:08.426510Z"
    }
   },
   "outputs": [],
   "source": [
    "sgd = SGD(lr = 1e-3, momentum = 0.9, nesterov = True)\n",
    "early_stop = EarlyStopping(monitor = 'val_loss', mode = 'min', patience = 10, restore_best_weights = True, verbose = 1)\n",
    "reduce_lr = ReduceLROnPlateau(monitor = 'val_loss', mode = 'min', patience = 5, \n",
    "                        factor = 0.5, min_lr = 1e-6, verbose = 1)"
   ]
  },
  {
   "cell_type": "code",
   "execution_count": 15,
   "metadata": {
    "execution": {
     "iopub.execute_input": "2021-06-27T20:08:10.372196Z",
     "iopub.status.busy": "2021-06-27T20:08:10.371836Z",
     "iopub.status.idle": "2021-06-27T20:08:10.391565Z",
     "shell.execute_reply": "2021-06-27T20:08:10.390625Z",
     "shell.execute_reply.started": "2021-06-27T20:08:10.372155Z"
    }
   },
   "outputs": [],
   "source": [
    "model.compile(loss = 'categorical_crossentropy', optimizer = sgd, metrics = ['acc'])"
   ]
  },
  {
   "cell_type": "markdown",
   "metadata": {},
   "source": [
    "#### Entrenamiento"
   ]
  },
  {
   "cell_type": "code",
   "execution_count": 19,
   "metadata": {
    "execution": {
     "iopub.execute_input": "2021-06-27T20:35:27.353311Z",
     "iopub.status.busy": "2021-06-27T20:35:27.352959Z",
     "iopub.status.idle": "2021-06-27T21:14:42.580960Z",
     "shell.execute_reply": "2021-06-27T21:14:42.579971Z",
     "shell.execute_reply.started": "2021-06-27T20:35:27.353280Z"
    }
   },
   "outputs": [
    {
     "name": "stdout",
     "output_type": "stream",
     "text": [
      "Epoch 1/25\n",
      "625/625 [==============================] - 93s 149ms/step - loss: 1.3492 - acc: 0.6258 - val_loss: 0.9728 - val_acc: 0.7212\n",
      "Epoch 2/25\n",
      "625/625 [==============================] - 91s 145ms/step - loss: 1.3624 - acc: 0.6222 - val_loss: 1.0685 - val_acc: 0.6919\n",
      "Epoch 3/25\n",
      "625/625 [==============================] - 95s 151ms/step - loss: 1.3454 - acc: 0.6204 - val_loss: 0.9392 - val_acc: 0.7209\n",
      "Epoch 4/25\n",
      "625/625 [==============================] - 95s 151ms/step - loss: 1.3234 - acc: 0.6334 - val_loss: 0.8854 - val_acc: 0.7354\n",
      "Epoch 5/25\n",
      "625/625 [==============================] - 95s 151ms/step - loss: 1.2998 - acc: 0.6370 - val_loss: 0.8870 - val_acc: 0.7357\n",
      "Epoch 6/25\n",
      "625/625 [==============================] - 95s 151ms/step - loss: 1.2952 - acc: 0.6368 - val_loss: 0.8278 - val_acc: 0.7528\n",
      "Epoch 7/25\n",
      "625/625 [==============================] - 95s 152ms/step - loss: 1.2885 - acc: 0.6398 - val_loss: 0.9053 - val_acc: 0.7288\n",
      "Epoch 8/25\n",
      "625/625 [==============================] - 93s 148ms/step - loss: 1.2516 - acc: 0.6416 - val_loss: 0.9758 - val_acc: 0.7187\n",
      "Epoch 9/25\n",
      "625/625 [==============================] - 95s 152ms/step - loss: 1.2119 - acc: 0.6570 - val_loss: 0.8679 - val_acc: 0.7431\n",
      "Epoch 10/25\n",
      "625/625 [==============================] - 94s 151ms/step - loss: 1.2271 - acc: 0.6492 - val_loss: 1.1954 - val_acc: 0.6648\n",
      "Epoch 11/25\n",
      "625/625 [==============================] - 94s 150ms/step - loss: 1.2011 - acc: 0.6598 - val_loss: 1.1028 - val_acc: 0.6862\n",
      "\n",
      "Epoch 00011: ReduceLROnPlateau reducing learning rate to 0.0005000000237487257.\n",
      "Epoch 12/25\n",
      "625/625 [==============================] - 94s 150ms/step - loss: 1.1584 - acc: 0.6730 - val_loss: 0.8081 - val_acc: 0.7584\n",
      "Epoch 13/25\n",
      "625/625 [==============================] - 93s 149ms/step - loss: 1.1091 - acc: 0.6770 - val_loss: 0.7951 - val_acc: 0.7633\n",
      "Epoch 14/25\n",
      "625/625 [==============================] - 94s 150ms/step - loss: 1.1367 - acc: 0.6660 - val_loss: 0.9339 - val_acc: 0.7323\n",
      "Epoch 15/25\n",
      "625/625 [==============================] - 94s 151ms/step - loss: 1.1098 - acc: 0.6814 - val_loss: 0.7399 - val_acc: 0.7809\n",
      "Epoch 16/25\n",
      "625/625 [==============================] - 96s 154ms/step - loss: 1.1087 - acc: 0.6862 - val_loss: 0.7718 - val_acc: 0.7698\n",
      "Epoch 17/25\n",
      "625/625 [==============================] - 95s 152ms/step - loss: 1.0766 - acc: 0.6872 - val_loss: 0.7354 - val_acc: 0.7770\n",
      "Epoch 18/25\n",
      "625/625 [==============================] - 95s 153ms/step - loss: 1.0490 - acc: 0.6984 - val_loss: 0.7789 - val_acc: 0.7675\n",
      "Epoch 19/25\n",
      "625/625 [==============================] - 95s 153ms/step - loss: 1.0472 - acc: 0.7038 - val_loss: 0.7508 - val_acc: 0.7767\n",
      "Epoch 20/25\n",
      "625/625 [==============================] - 96s 153ms/step - loss: 1.0871 - acc: 0.6884 - val_loss: 0.7231 - val_acc: 0.7807\n",
      "Epoch 21/25\n",
      "625/625 [==============================] - 94s 150ms/step - loss: 1.0715 - acc: 0.6884 - val_loss: 0.7661 - val_acc: 0.7708\n",
      "Epoch 22/25\n",
      "625/625 [==============================] - 92s 147ms/step - loss: 1.0446 - acc: 0.6932 - val_loss: 0.8912 - val_acc: 0.7433\n",
      "Epoch 23/25\n",
      "625/625 [==============================] - 93s 148ms/step - loss: 1.0150 - acc: 0.7090 - val_loss: 0.7124 - val_acc: 0.7890\n",
      "Epoch 24/25\n",
      "625/625 [==============================] - 95s 152ms/step - loss: 1.0561 - acc: 0.6944 - val_loss: 0.7360 - val_acc: 0.7821\n",
      "Epoch 25/25\n",
      "625/625 [==============================] - 95s 152ms/step - loss: 1.0277 - acc: 0.7034 - val_loss: 0.7005 - val_acc: 0.7914\n"
     ]
    }
   ],
   "source": [
    "hist = model.fit(train_generator,validation_data = valid_generator, \n",
    "                           epochs = epochs, verbose = 1, callbacks = [early_stop, reduce_lr],  steps_per_epoch=len(train_generator))\n",
    "\n",
    "model.save_weights(\"best_weight.h5\")"
   ]
  },
  {
   "cell_type": "markdown",
   "metadata": {},
   "source": [
    "### Test"
   ]
  },
  {
   "cell_type": "code",
   "execution_count": null,
   "metadata": {},
   "outputs": [],
   "source": [
    "# Predicciones\n",
    "test_generator = DataGenerator(X_test, mode = 'predict', augment = False, shuffle = False)\n",
    "y_pred = model.predict_generator(test_generator,verbose = 1)\n",
    "y_pred = np.argmax(y_pred, axis = 1)"
   ]
  },
  {
   "cell_type": "code",
   "execution_count": 23,
   "metadata": {
    "execution": {
     "iopub.execute_input": "2021-06-27T21:22:16.001022Z",
     "iopub.status.busy": "2021-06-27T21:22:16.000695Z",
     "iopub.status.idle": "2021-06-27T21:22:16.006380Z",
     "shell.execute_reply": "2021-06-27T21:22:16.005574Z",
     "shell.execute_reply.started": "2021-06-27T21:22:16.000989Z"
    }
   },
   "outputs": [
    {
     "data": {
      "text/plain": [
       "array([68, 33, 55, ..., 51, 42, 70])"
      ]
     },
     "execution_count": 23,
     "metadata": {},
     "output_type": "execute_result"
    }
   ],
   "source": [
    "y_pred"
   ]
  },
  {
   "cell_type": "code",
   "execution_count": 25,
   "metadata": {
    "execution": {
     "iopub.execute_input": "2021-06-27T21:22:55.090991Z",
     "iopub.status.busy": "2021-06-27T21:22:55.090664Z",
     "iopub.status.idle": "2021-06-27T21:22:55.117371Z",
     "shell.execute_reply": "2021-06-27T21:22:55.116626Z",
     "shell.execute_reply.started": "2021-06-27T21:22:55.090958Z"
    }
   },
   "outputs": [],
   "source": [
    "#Salvo las predicciones y genero el archivo csv según el formato pedido\n",
    "df = pd.DataFrame(y_pred, columns=[\"label\"])\n",
    "df.index.name = \"Id\"\n",
    "df.to_csv(\"submission2.csv\")"
   ]
  }
 ],
 "metadata": {
  "interpreter": {
   "hash": "35d319f83ab08ecd497627408ea36f4ad0a0ef0ec31f33b5bf93fec9ccad80dc"
  },
  "kernelspec": {
   "display_name": "Python 3",
   "language": "python",
   "name": "python3"
  },
  "language_info": {
   "codemirror_mode": {
    "name": "ipython",
    "version": 3
   },
   "file_extension": ".py",
   "mimetype": "text/x-python",
   "name": "python",
   "nbconvert_exporter": "python",
   "pygments_lexer": "ipython3",
   "version": "3.8.5"
  }
 },
 "nbformat": 4,
 "nbformat_minor": 4
}
