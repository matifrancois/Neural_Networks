{
 "cells": [
  {
   "cell_type": "markdown",
   "metadata": {},
   "source": [
    "## Red Simple\n",
    "Con esta red se obtuvo un Accuracy en Test de 0.483. La red consta de 4 capas convolucionales con MaxPooling y 3 capas densas."
   ]
  },
  {
   "cell_type": "code",
   "execution_count": 9,
   "metadata": {
    "_cell_guid": "b1076dfc-b9ad-4769-8c92-a6c4dae69d19",
    "_uuid": "8f2839f25d086af736a60e9eeb907d3b93b6e0e5",
    "execution": {
     "iopub.execute_input": "2021-06-27T04:49:08.892652Z",
     "iopub.status.busy": "2021-06-27T04:49:08.892277Z",
     "iopub.status.idle": "2021-06-27T04:49:08.904229Z",
     "shell.execute_reply": "2021-06-27T04:49:08.903328Z",
     "shell.execute_reply.started": "2021-06-27T04:49:08.892612Z"
    }
   },
   "outputs": [
    {
     "name": "stdout",
     "output_type": "stream",
     "text": [
      "/kaggle/input/rn2021q1itba-cifar100/submission_example.csv\n",
      "/kaggle/input/rn2021q1itba-cifar100/y_train.npy\n",
      "/kaggle/input/rn2021q1itba-cifar100/x_test.npy\n",
      "/kaggle/input/rn2021q1itba-cifar100/x_train.npy\n"
     ]
    }
   ],
   "source": [
    "# This Python 3 environment comes with many helpful analytics libraries installed\n",
    "# It is defined by the kaggle/python Docker image: https://github.com/kaggle/docker-python\n",
    "# For example, here's several helpful packages to load\n",
    "import tensorflow.compat.v2 as tf\n",
    "import numpy as np # linear algebra\n",
    "import pandas as pd # data processing, CSV file I/O (e.g. pd.read_csv)\n",
    "import tensorflow_datasets as tfds\n",
    "from keras import backend as K\n",
    "from tensorflow.python.keras.utils import np_utils\n",
    "# Input data files are available in the read-only \"../input/\" directory\n",
    "# For example, running this (by clicking run or pressing Shift+Enter) will list all files under the input directory\n",
    "\n",
    "import os\n",
    "for dirname, _, filenames in os.walk('/kaggle/input'):\n",
    "    for filename in filenames:\n",
    "        print(os.path.join(dirname, filename))\n",
    "\n",
    "# You can write up to 20GB to the current directory (/kaggle/working/) that gets preserved as output when you create a version using \"Save & Run All\" \n",
    "# You can also write temporary files to /kaggle/temp/, but they won't be saved outside of the current session"
   ]
  },
  {
   "cell_type": "markdown",
   "metadata": {},
   "source": [
    "### Importación de datos"
   ]
  },
  {
   "cell_type": "code",
   "execution_count": 10,
   "metadata": {
    "execution": {
     "iopub.execute_input": "2021-06-27T04:49:08.906529Z",
     "iopub.status.busy": "2021-06-27T04:49:08.905937Z",
     "iopub.status.idle": "2021-06-27T04:49:09.003576Z",
     "shell.execute_reply": "2021-06-27T04:49:09.002716Z",
     "shell.execute_reply.started": "2021-06-27T04:49:08.906491Z"
    }
   },
   "outputs": [],
   "source": [
    "x_train_val = np.load(\"/kaggle/input/rn2021q1itba-cifar100/x_train.npy\")\n",
    "x_test = np.load(\"/kaggle/input/rn2021q1itba-cifar100/x_test.npy\")\n",
    "y_train_val = np.load(\"/kaggle/input/rn2021q1itba-cifar100/y_train.npy\")\n"
   ]
  },
  {
   "cell_type": "code",
   "execution_count": 11,
   "metadata": {
    "execution": {
     "iopub.execute_input": "2021-06-27T04:49:09.005763Z",
     "iopub.status.busy": "2021-06-27T04:49:09.005420Z",
     "iopub.status.idle": "2021-06-27T04:49:09.131207Z",
     "shell.execute_reply": "2021-06-27T04:49:09.130295Z",
     "shell.execute_reply.started": "2021-06-27T04:49:09.005728Z"
    }
   },
   "outputs": [
    {
     "data": {
      "image/png": "[encoded data removed]",
      "text/plain": [
       "<Figure size 432x288 with 1 Axes>"
      ]
     },
     "metadata": {
      "needs_background": "light"
     },
     "output_type": "display_data"
    }
   ],
   "source": [
    "from matplotlib import pyplot as plt\n",
    "#Mostramos alguna imágen\n",
    "idx = 50\n",
    "plt.imshow(x_train_val[idx])\n",
    "plt.title(f'Clase: {y_train_val[idx]}')\n",
    "plt.show()"
   ]
  },
  {
   "cell_type": "code",
   "execution_count": 12,
   "metadata": {
    "execution": {
     "iopub.execute_input": "2021-06-27T04:49:09.133136Z",
     "iopub.status.busy": "2021-06-27T04:49:09.132787Z",
     "iopub.status.idle": "2021-06-27T04:49:09.858905Z",
     "shell.execute_reply": "2021-06-27T04:49:09.858059Z",
     "shell.execute_reply.started": "2021-06-27T04:49:09.133101Z"
    }
   },
   "outputs": [],
   "source": [
    "#Dividimos entre train y validación\n",
    "from sklearn.model_selection import train_test_split\n",
    "\n",
    "x_train_val = x_train_val.astype('float32') / 255\n",
    "x_test = x_test.astype('float32') / 255\n",
    "\n",
    "x_train, x_val, y_train, y_val = train_test_split(\n",
    "     x_train_val, y_train_val, test_size=0.15, random_state=42, stratify=y_train_val)"
   ]
  },
  {
   "cell_type": "code",
   "execution_count": 13,
   "metadata": {
    "execution": {
     "iopub.execute_input": "2021-06-27T04:49:09.860640Z",
     "iopub.status.busy": "2021-06-27T04:49:09.860243Z",
     "iopub.status.idle": "2021-06-27T04:49:09.870021Z",
     "shell.execute_reply": "2021-06-27T04:49:09.869149Z",
     "shell.execute_reply.started": "2021-06-27T04:49:09.860589Z"
    }
   },
   "outputs": [],
   "source": [
    "x_train = x_train.reshape(x_train.shape[0], 32, 32, 3)\n",
    "x_val = x_val.reshape(x_val.shape[0], 32, 32, 3)\n",
    "x_test = x_test.reshape(x_test.shape[0], 32, 32, 3)\n",
    "\n",
    "y_train = np_utils.to_categorical(y_train, 100)\n",
    "y_val = np_utils.to_categorical(y_val, 100)"
   ]
  },
  {
   "cell_type": "markdown",
   "metadata": {},
   "source": [
    "### Red de clasificación"
   ]
  },
  {
   "cell_type": "code",
   "execution_count": 14,
   "metadata": {
    "execution": {
     "iopub.execute_input": "2021-06-27T04:49:09.871603Z",
     "iopub.status.busy": "2021-06-27T04:49:09.871244Z",
     "iopub.status.idle": "2021-06-27T04:49:09.879536Z",
     "shell.execute_reply": "2021-06-27T04:49:09.878699Z",
     "shell.execute_reply.started": "2021-06-27T04:49:09.871566Z"
    }
   },
   "outputs": [],
   "source": [
    "#Armamos la red de clasificación\n",
    "from tensorflow.keras.layers import Dense, Flatten, Activation, BatchNormalization, Dropout, Conv2D, MaxPooling2D, GlobalAveragePooling2D, Input\n",
    "from tensorflow.keras.models import Sequential\n",
    "from tensorflow.keras.callbacks import EarlyStopping, ReduceLROnPlateau, ModelCheckpoint, Callback, TensorBoard\n",
    "from tensorflow.keras.optimizers import Adam\n",
    "from tensorflow.keras import layers\n",
    "from keras.preprocessing.image import ImageDataGenerator  "
   ]
  },
  {
   "cell_type": "code",
   "execution_count": 15,
   "metadata": {
    "execution": {
     "iopub.execute_input": "2021-06-27T04:49:09.881201Z",
     "iopub.status.busy": "2021-06-27T04:49:09.880803Z",
     "iopub.status.idle": "2021-06-27T04:49:10.004990Z",
     "shell.execute_reply": "2021-06-27T04:49:10.004264Z",
     "shell.execute_reply.started": "2021-06-27T04:49:09.881166Z"
    }
   },
   "outputs": [],
   "source": [
    "model = Sequential()\n",
    "model.add(Conv2D(64,3, input_shape=(32,32,3)))\n",
    "model.add(Dropout(0.1))\n",
    "model.add(BatchNormalization())\n",
    "\n",
    "model.add(Conv2D(128,3))\n",
    "model.add(MaxPooling2D(pool_size=(2,2)))\n",
    "model.add(Dropout(0.1))\n",
    "model.add(BatchNormalization())\n",
    "\n",
    "model.add(Conv2D(256,3))\n",
    "model.add(MaxPooling2D(pool_size=(2,2)))\n",
    "model.add(Dropout(0.1))\n",
    "model.add(BatchNormalization())\n",
    "\n",
    "model.add(Conv2D(512,3))\n",
    "model.add(BatchNormalization())\n",
    "model.add(GlobalAveragePooling2D())\n",
    "model.add(Dropout(0.1))\n",
    "\n",
    "model.add(Dense(256, activation=\"relu\"))\n",
    "model.add(Dense(256, activation=\"relu\"))\n",
    "model.add(Dense(100, activation=\"softmax\"))\n",
    "\n",
    "model.compile(loss=\"categorical_crossentropy\", optimizer= Adam(learning_rate=0.001), metrics=[\"accuracy\"])"
   ]
  },
  {
   "cell_type": "markdown",
   "metadata": {},
   "source": [
    "#### Callbacks"
   ]
  },
  {
   "cell_type": "code",
   "execution_count": null,
   "metadata": {},
   "outputs": [],
   "source": [
    "\n",
    "early_stop = tf.keras.callbacks.EarlyStopping(monitor='loss', patience=10)\n",
    "reduce_lr = ReduceLROnPlateau(monitor='loss', factor=0.1, patience=4, verbose=1, min_delta=1e-4) \n",
    "\n",
    "checkpoint_filepath = '/tmp/checkpoint3'\n",
    "model_checkpoint_callback = tf.keras.callbacks.ModelCheckpoint(\n",
    "    filepath=checkpoint_filepath,\n",
    "    save_weights_only=True,\n",
    "    monitor='val_accuracy',\n",
    "    mode='max',\n",
    "    save_best_only=True)"
   ]
  },
  {
   "cell_type": "markdown",
   "metadata": {},
   "source": [
    "#### Data Augmentation"
   ]
  },
  {
   "cell_type": "code",
   "execution_count": null,
   "metadata": {},
   "outputs": [],
   "source": [
    "datagen = ImageDataGenerator(\n",
    "        featurewise_center=False,\n",
    "        samplewise_center=False,\n",
    "        featurewise_std_normalization=False,\n",
    "        samplewise_std_normalization=False,\n",
    "        zca_whitening=False,\n",
    "        rotation_range=0,\n",
    "        width_shift_range=0.1,\n",
    "        height_shift_range=0.1,\n",
    "        horizontal_flip=True,\n",
    "        vertical_flip=False)\n",
    "\n",
    "datagen.fit(x_train)\n",
    "\n",
    "it_train = datagen.flow(x_train, y_train, batch_size = 64)"
   ]
  },
  {
   "cell_type": "markdown",
   "metadata": {},
   "source": [
    "#### Entrenamiento"
   ]
  },
  {
   "cell_type": "code",
   "execution_count": 16,
   "metadata": {
    "execution": {
     "iopub.execute_input": "2021-06-27T04:49:10.007379Z",
     "iopub.status.busy": "2021-06-27T04:49:10.007029Z",
     "iopub.status.idle": "2021-06-27T05:37:32.785380Z",
     "shell.execute_reply": "2021-06-27T05:37:32.784546Z",
     "shell.execute_reply.started": "2021-06-27T04:49:10.007344Z"
    }
   },
   "outputs": [
    {
     "name": "stdout",
     "output_type": "stream",
     "text": [
      "Epoch 1/200\n",
      "664/664 [==============================] - 24s 35ms/step - loss: 4.1611 - accuracy: 0.0714 - val_loss: 3.6318 - val_accuracy: 0.1413\n",
      "Epoch 2/200\n",
      "664/664 [==============================] - 23s 34ms/step - loss: 3.5018 - accuracy: 0.1634 - val_loss: 3.2177 - val_accuracy: 0.2173\n",
      "Epoch 3/200\n",
      "664/664 [==============================] - 23s 35ms/step - loss: 3.1241 - accuracy: 0.2269 - val_loss: 3.4450 - val_accuracy: 0.2159\n",
      "Epoch 4/200\n",
      "664/664 [==============================] - 24s 36ms/step - loss: 2.8926 - accuracy: 0.2724 - val_loss: 3.0018 - val_accuracy: 0.2699\n",
      "Epoch 5/200\n",
      "664/664 [==============================] - 23s 34ms/step - loss: 2.7370 - accuracy: 0.3011 - val_loss: 2.7116 - val_accuracy: 0.3163\n",
      "Epoch 6/200\n",
      "664/664 [==============================] - 23s 34ms/step - loss: 2.6058 - accuracy: 0.3274 - val_loss: 2.6688 - val_accuracy: 0.3244\n",
      "Epoch 7/200\n",
      "664/664 [==============================] - 22s 33ms/step - loss: 2.5169 - accuracy: 0.3461 - val_loss: 2.6289 - val_accuracy: 0.3376\n",
      "Epoch 8/200\n",
      "664/664 [==============================] - 21s 32ms/step - loss: 2.4381 - accuracy: 0.3624 - val_loss: 2.5852 - val_accuracy: 0.3523\n",
      "Epoch 9/200\n",
      "664/664 [==============================] - 22s 33ms/step - loss: 2.3705 - accuracy: 0.3729 - val_loss: 2.6009 - val_accuracy: 0.3584\n",
      "Epoch 10/200\n",
      "664/664 [==============================] - 22s 33ms/step - loss: 2.2909 - accuracy: 0.3917 - val_loss: 2.6330 - val_accuracy: 0.3465\n",
      "Epoch 11/200\n",
      "664/664 [==============================] - 21s 32ms/step - loss: 2.2492 - accuracy: 0.4034 - val_loss: 2.4763 - val_accuracy: 0.3748\n",
      "Epoch 12/200\n",
      "664/664 [==============================] - 22s 33ms/step - loss: 2.1617 - accuracy: 0.4204 - val_loss: 2.6403 - val_accuracy: 0.3575\n",
      "Epoch 13/200\n",
      "664/664 [==============================] - 22s 33ms/step - loss: 2.1587 - accuracy: 0.4188 - val_loss: 2.3566 - val_accuracy: 0.3945\n",
      "Epoch 14/200\n",
      "664/664 [==============================] - 21s 32ms/step - loss: 2.1142 - accuracy: 0.4324 - val_loss: 2.3205 - val_accuracy: 0.4077\n",
      "Epoch 15/200\n",
      "664/664 [==============================] - 22s 33ms/step - loss: 2.0804 - accuracy: 0.4360 - val_loss: 2.4963 - val_accuracy: 0.3857\n",
      "Epoch 16/200\n",
      "664/664 [==============================] - 22s 33ms/step - loss: 2.0153 - accuracy: 0.4538 - val_loss: 2.5596 - val_accuracy: 0.3696\n",
      "Epoch 17/200\n",
      "664/664 [==============================] - 21s 32ms/step - loss: 2.0141 - accuracy: 0.4532 - val_loss: 2.3312 - val_accuracy: 0.4088\n",
      "Epoch 18/200\n",
      "664/664 [==============================] - 22s 33ms/step - loss: 1.9653 - accuracy: 0.4647 - val_loss: 2.4065 - val_accuracy: 0.3969\n",
      "Epoch 19/200\n",
      "664/664 [==============================] - 22s 33ms/step - loss: 1.9428 - accuracy: 0.4674 - val_loss: 2.3315 - val_accuracy: 0.4137\n",
      "Epoch 20/200\n",
      "664/664 [==============================] - 22s 32ms/step - loss: 1.9126 - accuracy: 0.4790 - val_loss: 2.4046 - val_accuracy: 0.4052\n",
      "Epoch 21/200\n",
      "664/664 [==============================] - 22s 33ms/step - loss: 1.8832 - accuracy: 0.4782 - val_loss: 2.3413 - val_accuracy: 0.4111\n",
      "Epoch 22/200\n",
      "664/664 [==============================] - 22s 33ms/step - loss: 1.8680 - accuracy: 0.4877 - val_loss: 2.3515 - val_accuracy: 0.4093\n",
      "Epoch 23/200\n",
      "664/664 [==============================] - 21s 32ms/step - loss: 1.8494 - accuracy: 0.4836 - val_loss: 2.7973 - val_accuracy: 0.3424\n",
      "Epoch 24/200\n",
      "664/664 [==============================] - 22s 33ms/step - loss: 1.8215 - accuracy: 0.4966 - val_loss: 2.4774 - val_accuracy: 0.4045\n",
      "Epoch 25/200\n",
      "664/664 [==============================] - 22s 33ms/step - loss: 1.8009 - accuracy: 0.5017 - val_loss: 2.3540 - val_accuracy: 0.4155\n",
      "Epoch 26/200\n",
      "664/664 [==============================] - 22s 33ms/step - loss: 1.7670 - accuracy: 0.5103 - val_loss: 2.4155 - val_accuracy: 0.4111\n",
      "Epoch 27/200\n",
      "664/664 [==============================] - 22s 34ms/step - loss: 1.7610 - accuracy: 0.5100 - val_loss: 2.4327 - val_accuracy: 0.4135\n",
      "Epoch 28/200\n",
      "664/664 [==============================] - 22s 34ms/step - loss: 1.7403 - accuracy: 0.5158 - val_loss: 2.3699 - val_accuracy: 0.4256\n",
      "Epoch 29/200\n",
      "664/664 [==============================] - 22s 33ms/step - loss: 1.7133 - accuracy: 0.5221 - val_loss: 2.3800 - val_accuracy: 0.4191\n",
      "Epoch 30/200\n",
      "664/664 [==============================] - 22s 33ms/step - loss: 1.7026 - accuracy: 0.5242 - val_loss: 2.3249 - val_accuracy: 0.4357\n",
      "Epoch 31/200\n",
      "664/664 [==============================] - 22s 33ms/step - loss: 1.6949 - accuracy: 0.5235 - val_loss: 2.5061 - val_accuracy: 0.4061\n",
      "Epoch 32/200\n",
      "664/664 [==============================] - 22s 33ms/step - loss: 1.6593 - accuracy: 0.5367 - val_loss: 2.3805 - val_accuracy: 0.4248\n",
      "Epoch 33/200\n",
      "664/664 [==============================] - 21s 32ms/step - loss: 1.6434 - accuracy: 0.5399 - val_loss: 2.3786 - val_accuracy: 0.4187\n",
      "Epoch 34/200\n",
      "664/664 [==============================] - 22s 33ms/step - loss: 1.6420 - accuracy: 0.5378 - val_loss: 2.3606 - val_accuracy: 0.4324\n",
      "Epoch 35/200\n",
      "664/664 [==============================] - 22s 33ms/step - loss: 1.6346 - accuracy: 0.5406 - val_loss: 2.4079 - val_accuracy: 0.4261\n",
      "Epoch 36/200\n",
      "664/664 [==============================] - 21s 32ms/step - loss: 1.6244 - accuracy: 0.5428 - val_loss: 2.3400 - val_accuracy: 0.4373\n",
      "Epoch 37/200\n",
      "664/664 [==============================] - 22s 33ms/step - loss: 1.5941 - accuracy: 0.5463 - val_loss: 2.3979 - val_accuracy: 0.4175\n",
      "Epoch 38/200\n",
      "664/664 [==============================] - 22s 33ms/step - loss: 1.5955 - accuracy: 0.5492 - val_loss: 2.3933 - val_accuracy: 0.4259\n",
      "Epoch 39/200\n",
      "664/664 [==============================] - 21s 32ms/step - loss: 1.5630 - accuracy: 0.5559 - val_loss: 2.3890 - val_accuracy: 0.4329\n",
      "Epoch 40/200\n",
      "664/664 [==============================] - 22s 34ms/step - loss: 1.5823 - accuracy: 0.5520 - val_loss: 2.3977 - val_accuracy: 0.4267\n",
      "Epoch 41/200\n",
      "664/664 [==============================] - 22s 34ms/step - loss: 1.5317 - accuracy: 0.5631 - val_loss: 2.5290 - val_accuracy: 0.4157\n",
      "Epoch 42/200\n",
      "664/664 [==============================] - 22s 34ms/step - loss: 1.5362 - accuracy: 0.5624 - val_loss: 2.4530 - val_accuracy: 0.4241\n",
      "Epoch 43/200\n",
      "664/664 [==============================] - 22s 34ms/step - loss: 1.5097 - accuracy: 0.5694 - val_loss: 2.3904 - val_accuracy: 0.4267\n",
      "Epoch 44/200\n",
      "664/664 [==============================] - 22s 33ms/step - loss: 1.5242 - accuracy: 0.5677 - val_loss: 2.3689 - val_accuracy: 0.4340\n",
      "Epoch 45/200\n",
      "664/664 [==============================] - 22s 34ms/step - loss: 1.5037 - accuracy: 0.5738 - val_loss: 2.3813 - val_accuracy: 0.4319\n",
      "Epoch 46/200\n",
      "664/664 [==============================] - 22s 34ms/step - loss: 1.4792 - accuracy: 0.5732 - val_loss: 2.5098 - val_accuracy: 0.4127\n",
      "Epoch 47/200\n",
      "664/664 [==============================] - 23s 34ms/step - loss: 1.4870 - accuracy: 0.5788 - val_loss: 2.4020 - val_accuracy: 0.4416\n",
      "Epoch 48/200\n",
      "664/664 [==============================] - 22s 33ms/step - loss: 1.4772 - accuracy: 0.5785 - val_loss: 2.4397 - val_accuracy: 0.4375\n",
      "Epoch 49/200\n",
      "664/664 [==============================] - 23s 35ms/step - loss: 1.4700 - accuracy: 0.5770 - val_loss: 2.7777 - val_accuracy: 0.3884\n",
      "Epoch 50/200\n",
      "664/664 [==============================] - 22s 34ms/step - loss: 1.4995 - accuracy: 0.5731 - val_loss: 2.3831 - val_accuracy: 0.4453\n",
      "Epoch 51/200\n",
      "664/664 [==============================] - 23s 34ms/step - loss: 1.4437 - accuracy: 0.5868 - val_loss: 2.4520 - val_accuracy: 0.4335\n",
      "Epoch 52/200\n",
      "664/664 [==============================] - 22s 33ms/step - loss: 1.4325 - accuracy: 0.5893 - val_loss: 2.4362 - val_accuracy: 0.4413\n",
      "Epoch 53/200\n",
      "664/664 [==============================] - 23s 35ms/step - loss: 1.4176 - accuracy: 0.5927 - val_loss: 2.5947 - val_accuracy: 0.4169\n",
      "Epoch 54/200\n",
      "664/664 [==============================] - 22s 34ms/step - loss: 1.4144 - accuracy: 0.5909 - val_loss: 2.4528 - val_accuracy: 0.4412\n",
      "Epoch 55/200\n",
      "664/664 [==============================] - 22s 33ms/step - loss: 1.4144 - accuracy: 0.5926 - val_loss: 2.4621 - val_accuracy: 0.4388\n",
      "Epoch 56/200\n",
      "664/664 [==============================] - 22s 33ms/step - loss: 1.4053 - accuracy: 0.5964 - val_loss: 2.3966 - val_accuracy: 0.4493\n",
      "Epoch 57/200\n",
      "664/664 [==============================] - 22s 34ms/step - loss: 1.3939 - accuracy: 0.5985 - val_loss: 2.4773 - val_accuracy: 0.4460\n",
      "Epoch 58/200\n",
      "664/664 [==============================] - 22s 33ms/step - loss: 1.3781 - accuracy: 0.6028 - val_loss: 2.4247 - val_accuracy: 0.4535\n",
      "Epoch 59/200\n",
      "664/664 [==============================] - 22s 33ms/step - loss: 1.3725 - accuracy: 0.6030 - val_loss: 2.4785 - val_accuracy: 0.4445\n",
      "Epoch 60/200\n",
      "664/664 [==============================] - 22s 33ms/step - loss: 1.3607 - accuracy: 0.6070 - val_loss: 2.4987 - val_accuracy: 0.4289\n",
      "Epoch 61/200\n",
      "664/664 [==============================] - 22s 33ms/step - loss: 1.3551 - accuracy: 0.6086 - val_loss: 2.4013 - val_accuracy: 0.4499\n",
      "Epoch 62/200\n",
      "664/664 [==============================] - 22s 33ms/step - loss: 1.3373 - accuracy: 0.6129 - val_loss: 2.6615 - val_accuracy: 0.4169\n",
      "Epoch 63/200\n",
      "664/664 [==============================] - 22s 33ms/step - loss: 1.3527 - accuracy: 0.6091 - val_loss: 2.3993 - val_accuracy: 0.4541\n",
      "Epoch 64/200\n",
      "664/664 [==============================] - 21s 32ms/step - loss: 1.3308 - accuracy: 0.6149 - val_loss: 2.4531 - val_accuracy: 0.4471\n",
      "Epoch 65/200\n",
      "664/664 [==============================] - 22s 34ms/step - loss: 1.3288 - accuracy: 0.6150 - val_loss: 2.4993 - val_accuracy: 0.4401\n",
      "Epoch 66/200\n",
      "664/664 [==============================] - 22s 33ms/step - loss: 1.3351 - accuracy: 0.6148 - val_loss: 2.5251 - val_accuracy: 0.4467\n",
      "Epoch 67/200\n",
      "664/664 [==============================] - 21s 32ms/step - loss: 1.3293 - accuracy: 0.6133 - val_loss: 2.4459 - val_accuracy: 0.4513\n",
      "Epoch 68/200\n",
      "664/664 [==============================] - 22s 33ms/step - loss: 1.3132 - accuracy: 0.6183 - val_loss: 2.4290 - val_accuracy: 0.4535\n",
      "Epoch 69/200\n",
      "664/664 [==============================] - 22s 33ms/step - loss: 1.3229 - accuracy: 0.6150 - val_loss: 2.4901 - val_accuracy: 0.4487\n",
      "Epoch 70/200\n",
      "664/664 [==============================] - 22s 32ms/step - loss: 1.2931 - accuracy: 0.6263 - val_loss: 2.4225 - val_accuracy: 0.4492\n",
      "Epoch 71/200\n",
      "664/664 [==============================] - 22s 33ms/step - loss: 1.2910 - accuracy: 0.6214 - val_loss: 2.5156 - val_accuracy: 0.4328\n",
      "Epoch 72/200\n",
      "664/664 [==============================] - 22s 34ms/step - loss: 1.2800 - accuracy: 0.6261 - val_loss: 2.4035 - val_accuracy: 0.4493\n",
      "Epoch 73/200\n",
      "664/664 [==============================] - 22s 33ms/step - loss: 1.3070 - accuracy: 0.6209 - val_loss: 2.6191 - val_accuracy: 0.4343\n",
      "Epoch 74/200\n",
      "664/664 [==============================] - 21s 32ms/step - loss: 1.2798 - accuracy: 0.6267 - val_loss: 2.4697 - val_accuracy: 0.4375\n",
      "Epoch 75/200\n",
      "664/664 [==============================] - 21s 32ms/step - loss: 1.2683 - accuracy: 0.6331 - val_loss: 2.4683 - val_accuracy: 0.4527\n",
      "Epoch 76/200\n",
      "664/664 [==============================] - 22s 34ms/step - loss: 1.2573 - accuracy: 0.6330 - val_loss: 2.4177 - val_accuracy: 0.4489\n",
      "Epoch 77/200\n",
      "664/664 [==============================] - 22s 34ms/step - loss: 1.2606 - accuracy: 0.6312 - val_loss: 2.4006 - val_accuracy: 0.4628\n",
      "Epoch 78/200\n",
      "664/664 [==============================] - 23s 34ms/step - loss: 1.2577 - accuracy: 0.6352 - val_loss: 2.5251 - val_accuracy: 0.4459\n",
      "Epoch 79/200\n",
      "664/664 [==============================] - 24s 36ms/step - loss: 1.2602 - accuracy: 0.6306 - val_loss: 2.5494 - val_accuracy: 0.4411\n",
      "Epoch 80/200\n",
      "664/664 [==============================] - 23s 34ms/step - loss: 1.2386 - accuracy: 0.6393 - val_loss: 2.5535 - val_accuracy: 0.4437\n",
      "Epoch 81/200\n",
      "664/664 [==============================] - 22s 33ms/step - loss: 1.2509 - accuracy: 0.6319 - val_loss: 2.6258 - val_accuracy: 0.4361\n",
      "Epoch 82/200\n",
      "664/664 [==============================] - 22s 33ms/step - loss: 1.2201 - accuracy: 0.6391 - val_loss: 2.4396 - val_accuracy: 0.4585\n",
      "Epoch 83/200\n",
      "664/664 [==============================] - 21s 32ms/step - loss: 1.2296 - accuracy: 0.6398 - val_loss: 2.5838 - val_accuracy: 0.4493\n",
      "Epoch 84/200\n",
      "664/664 [==============================] - 21s 32ms/step - loss: 1.2241 - accuracy: 0.6405 - val_loss: 2.4754 - val_accuracy: 0.4533\n",
      "Epoch 85/200\n",
      "664/664 [==============================] - 22s 33ms/step - loss: 1.2252 - accuracy: 0.6377 - val_loss: 2.5984 - val_accuracy: 0.4419\n",
      "Epoch 86/200\n",
      "664/664 [==============================] - 22s 33ms/step - loss: 1.1990 - accuracy: 0.6546 - val_loss: 2.4825 - val_accuracy: 0.4631\n",
      "Epoch 87/200\n",
      "664/664 [==============================] - 22s 33ms/step - loss: 1.2061 - accuracy: 0.6433 - val_loss: 2.6133 - val_accuracy: 0.4420\n",
      "Epoch 88/200\n",
      "664/664 [==============================] - 22s 33ms/step - loss: 1.2176 - accuracy: 0.6453 - val_loss: 2.5921 - val_accuracy: 0.4377\n",
      "Epoch 89/200\n",
      "664/664 [==============================] - 21s 32ms/step - loss: 1.2059 - accuracy: 0.6436 - val_loss: 2.5398 - val_accuracy: 0.4519\n",
      "Epoch 90/200\n",
      "664/664 [==============================] - 22s 33ms/step - loss: 1.2136 - accuracy: 0.6448 - val_loss: 2.5569 - val_accuracy: 0.4439\n",
      "\n",
      "Epoch 00090: ReduceLROnPlateau reducing learning rate to 0.00010000000474974513.\n",
      "Epoch 91/200\n",
      "664/664 [==============================] - 22s 34ms/step - loss: 1.0896 - accuracy: 0.6762 - val_loss: 2.3711 - val_accuracy: 0.4784\n",
      "Epoch 92/200\n",
      "664/664 [==============================] - 21s 32ms/step - loss: 1.0157 - accuracy: 0.7000 - val_loss: 2.3725 - val_accuracy: 0.4861\n",
      "Epoch 93/200\n",
      "664/664 [==============================] - 22s 34ms/step - loss: 1.0011 - accuracy: 0.7052 - val_loss: 2.4021 - val_accuracy: 0.4801\n",
      "Epoch 94/200\n",
      "664/664 [==============================] - 22s 33ms/step - loss: 0.9876 - accuracy: 0.7065 - val_loss: 2.4323 - val_accuracy: 0.4843\n",
      "Epoch 95/200\n",
      "664/664 [==============================] - 22s 32ms/step - loss: 0.9711 - accuracy: 0.7111 - val_loss: 2.4233 - val_accuracy: 0.4883\n",
      "Epoch 96/200\n",
      "664/664 [==============================] - 22s 33ms/step - loss: 0.9698 - accuracy: 0.7137 - val_loss: 2.4320 - val_accuracy: 0.4868\n",
      "Epoch 97/200\n",
      "664/664 [==============================] - 22s 33ms/step - loss: 0.9781 - accuracy: 0.7054 - val_loss: 2.4246 - val_accuracy: 0.4868\n",
      "Epoch 98/200\n",
      "664/664 [==============================] - 21s 32ms/step - loss: 0.9645 - accuracy: 0.7147 - val_loss: 2.4526 - val_accuracy: 0.4840\n",
      "Epoch 99/200\n",
      "664/664 [==============================] - 22s 33ms/step - loss: 0.9649 - accuracy: 0.7148 - val_loss: 2.4353 - val_accuracy: 0.4879\n",
      "Epoch 100/200\n",
      "664/664 [==============================] - 22s 33ms/step - loss: 0.9507 - accuracy: 0.7207 - val_loss: 2.4737 - val_accuracy: 0.4823\n",
      "Epoch 101/200\n",
      "664/664 [==============================] - 21s 32ms/step - loss: 0.9502 - accuracy: 0.7160 - val_loss: 2.4888 - val_accuracy: 0.4821\n",
      "Epoch 102/200\n",
      "664/664 [==============================] - 22s 33ms/step - loss: 0.9397 - accuracy: 0.7197 - val_loss: 2.4946 - val_accuracy: 0.4825\n",
      "Epoch 103/200\n",
      "664/664 [==============================] - 22s 33ms/step - loss: 0.9447 - accuracy: 0.7206 - val_loss: 2.4616 - val_accuracy: 0.4880\n",
      "Epoch 104/200\n",
      "664/664 [==============================] - 21s 32ms/step - loss: 0.9353 - accuracy: 0.7203 - val_loss: 2.4697 - val_accuracy: 0.4845\n",
      "Epoch 105/200\n",
      "664/664 [==============================] - 22s 33ms/step - loss: 0.9399 - accuracy: 0.7199 - val_loss: 2.4944 - val_accuracy: 0.4821\n",
      "Epoch 106/200\n",
      "664/664 [==============================] - 22s 33ms/step - loss: 0.9487 - accuracy: 0.7148 - val_loss: 2.4898 - val_accuracy: 0.4860\n",
      "Epoch 107/200\n",
      "664/664 [==============================] - 21s 32ms/step - loss: 0.9301 - accuracy: 0.7222 - val_loss: 2.4872 - val_accuracy: 0.4877\n",
      "Epoch 108/200\n",
      "664/664 [==============================] - 22s 33ms/step - loss: 0.9177 - accuracy: 0.7295 - val_loss: 2.4998 - val_accuracy: 0.4888\n",
      "Epoch 109/200\n",
      "664/664 [==============================] - 22s 33ms/step - loss: 0.9225 - accuracy: 0.7234 - val_loss: 2.4888 - val_accuracy: 0.4888\n",
      "Epoch 110/200\n",
      "664/664 [==============================] - 21s 32ms/step - loss: 0.9190 - accuracy: 0.7260 - val_loss: 2.4941 - val_accuracy: 0.4888\n",
      "Epoch 111/200\n",
      "664/664 [==============================] - 22s 33ms/step - loss: 0.9467 - accuracy: 0.7169 - val_loss: 2.5156 - val_accuracy: 0.4852\n",
      "Epoch 112/200\n",
      "664/664 [==============================] - 22s 33ms/step - loss: 0.9084 - accuracy: 0.7327 - val_loss: 2.5163 - val_accuracy: 0.4872\n",
      "\n",
      "Epoch 00112: ReduceLROnPlateau reducing learning rate to 1.0000000474974514e-05.\n",
      "Epoch 113/200\n",
      "664/664 [==============================] - 21s 32ms/step - loss: 0.9080 - accuracy: 0.7268 - val_loss: 2.5081 - val_accuracy: 0.4884\n",
      "Epoch 114/200\n",
      "664/664 [==============================] - 22s 33ms/step - loss: 0.9009 - accuracy: 0.7320 - val_loss: 2.5092 - val_accuracy: 0.4891\n",
      "Epoch 115/200\n",
      "664/664 [==============================] - 22s 33ms/step - loss: 0.9187 - accuracy: 0.7278 - val_loss: 2.5009 - val_accuracy: 0.4883\n",
      "Epoch 116/200\n",
      "664/664 [==============================] - 22s 32ms/step - loss: 0.9007 - accuracy: 0.7304 - val_loss: 2.5135 - val_accuracy: 0.4880\n",
      "Epoch 117/200\n",
      "664/664 [==============================] - 22s 34ms/step - loss: 0.8930 - accuracy: 0.7304 - val_loss: 2.5025 - val_accuracy: 0.4881\n",
      "Epoch 118/200\n",
      "664/664 [==============================] - 22s 33ms/step - loss: 0.9178 - accuracy: 0.7250 - val_loss: 2.4978 - val_accuracy: 0.4896\n",
      "Epoch 119/200\n",
      "664/664 [==============================] - 21s 32ms/step - loss: 0.9048 - accuracy: 0.7305 - val_loss: 2.5065 - val_accuracy: 0.4880\n",
      "Epoch 120/200\n",
      "664/664 [==============================] - 22s 33ms/step - loss: 0.9046 - accuracy: 0.7289 - val_loss: 2.4987 - val_accuracy: 0.4903\n",
      "Epoch 121/200\n",
      "664/664 [==============================] - 22s 33ms/step - loss: 0.8873 - accuracy: 0.7353 - val_loss: 2.5129 - val_accuracy: 0.4881\n",
      "\n",
      "Epoch 00121: ReduceLROnPlateau reducing learning rate to 1.0000000656873453e-06.\n",
      "Epoch 122/200\n",
      "664/664 [==============================] - 21s 32ms/step - loss: 0.8899 - accuracy: 0.7334 - val_loss: 2.5088 - val_accuracy: 0.4877\n",
      "Epoch 123/200\n",
      "664/664 [==============================] - 22s 33ms/step - loss: 0.8966 - accuracy: 0.7318 - val_loss: 2.5105 - val_accuracy: 0.4879\n",
      "Epoch 124/200\n",
      "664/664 [==============================] - 22s 33ms/step - loss: 0.9003 - accuracy: 0.7298 - val_loss: 2.4998 - val_accuracy: 0.4897\n",
      "Epoch 125/200\n",
      "664/664 [==============================] - 21s 32ms/step - loss: 0.9150 - accuracy: 0.7276 - val_loss: 2.5077 - val_accuracy: 0.4887\n",
      "Epoch 126/200\n",
      "664/664 [==============================] - 22s 32ms/step - loss: 0.8801 - accuracy: 0.7344 - val_loss: 2.5079 - val_accuracy: 0.4887\n",
      "\n",
      "Epoch 00126: ReduceLROnPlateau reducing learning rate to 1.0000001111620805e-07.\n",
      "Epoch 127/200\n",
      "664/664 [==============================] - 22s 33ms/step - loss: 0.8988 - accuracy: 0.7292 - val_loss: 2.5043 - val_accuracy: 0.4884\n",
      "Epoch 128/200\n",
      "664/664 [==============================] - 21s 32ms/step - loss: 0.8955 - accuracy: 0.7319 - val_loss: 2.5027 - val_accuracy: 0.4887\n",
      "Epoch 129/200\n",
      "664/664 [==============================] - 22s 33ms/step - loss: 0.8908 - accuracy: 0.7302 - val_loss: 2.5069 - val_accuracy: 0.4892\n",
      "Epoch 130/200\n",
      "664/664 [==============================] - 22s 33ms/step - loss: 0.8936 - accuracy: 0.7346 - val_loss: 2.5091 - val_accuracy: 0.4883\n",
      "\n",
      "Epoch 00130: ReduceLROnPlateau reducing learning rate to 1.000000082740371e-08.\n",
      "Epoch 131/200\n",
      "664/664 [==============================] - 21s 32ms/step - loss: 0.8901 - accuracy: 0.7336 - val_loss: 2.5069 - val_accuracy: 0.4888\n",
      "Epoch 132/200\n",
      "664/664 [==============================] - 22s 33ms/step - loss: 0.9026 - accuracy: 0.7298 - val_loss: 2.5073 - val_accuracy: 0.4885\n",
      "Model: \"sequential_1\"\n",
      "_________________________________________________________________\n",
      "Layer (type)                 Output Shape              Param #   \n",
      "=================================================================\n",
      "conv2d_5 (Conv2D)            (None, 30, 30, 64)        1792      \n",
      "_________________________________________________________________\n",
      "dropout_3 (Dropout)          (None, 30, 30, 64)        0         \n",
      "_________________________________________________________________\n",
      "batch_normalization_1 (Batch (None, 30, 30, 64)        256       \n",
      "_________________________________________________________________\n",
      "conv2d_6 (Conv2D)            (None, 28, 28, 128)       73856     \n",
      "_________________________________________________________________\n",
      "max_pooling2d_2 (MaxPooling2 (None, 14, 14, 128)       0         \n",
      "_________________________________________________________________\n",
      "dropout_4 (Dropout)          (None, 14, 14, 128)       0         \n",
      "_________________________________________________________________\n",
      "batch_normalization_2 (Batch (None, 14, 14, 128)       512       \n",
      "_________________________________________________________________\n",
      "conv2d_7 (Conv2D)            (None, 12, 12, 256)       295168    \n",
      "_________________________________________________________________\n",
      "max_pooling2d_3 (MaxPooling2 (None, 6, 6, 256)         0         \n",
      "_________________________________________________________________\n",
      "dropout_5 (Dropout)          (None, 6, 6, 256)         0         \n",
      "_________________________________________________________________\n",
      "batch_normalization_3 (Batch (None, 6, 6, 256)         1024      \n",
      "_________________________________________________________________\n",
      "conv2d_8 (Conv2D)            (None, 4, 4, 512)         1180160   \n",
      "_________________________________________________________________\n",
      "batch_normalization_4 (Batch (None, 4, 4, 512)         2048      \n",
      "_________________________________________________________________\n",
      "global_average_pooling2d_1 ( (None, 512)               0         \n",
      "_________________________________________________________________\n",
      "dropout_6 (Dropout)          (None, 512)               0         \n",
      "_________________________________________________________________\n",
      "dense_3 (Dense)              (None, 256)               131328    \n",
      "_________________________________________________________________\n",
      "dense_4 (Dense)              (None, 256)               65792     \n",
      "_________________________________________________________________\n",
      "dense_5 (Dense)              (None, 100)               25700     \n",
      "=================================================================\n",
      "Total params: 1,777,636\n",
      "Trainable params: 1,775,716\n",
      "Non-trainable params: 1,920\n",
      "_________________________________________________________________\n"
     ]
    }
   ],
   "source": [
    "steps = int(x_train.shape[0] / 64)\n",
    "model.fit(it_train,\n",
    "         validation_data=(x_val, y_val),\n",
    "         steps_per_epoch=steps, epochs=200, callbacks=[early_stop, reduce_lr, model_checkpoint_callback])\n",
    "\n",
    "model.load_weights(checkpoint_filepath)\n",
    "\n",
    "model.summary()"
   ]
  },
  {
   "cell_type": "markdown",
   "metadata": {},
   "source": [
    "### Test"
   ]
  },
  {
   "cell_type": "code",
   "execution_count": 21,
   "metadata": {
    "execution": {
     "iopub.execute_input": "2021-06-27T05:37:40.526711Z",
     "iopub.status.busy": "2021-06-27T05:37:40.526380Z",
     "iopub.status.idle": "2021-06-27T05:37:41.134898Z",
     "shell.execute_reply": "2021-06-27T05:37:41.133963Z",
     "shell.execute_reply.started": "2021-06-27T05:37:40.526680Z"
    }
   },
   "outputs": [],
   "source": [
    "y_test = model.predict(x_test).argmax(axis=-1)"
   ]
  },
  {
   "cell_type": "code",
   "execution_count": 22,
   "metadata": {
    "execution": {
     "iopub.execute_input": "2021-06-27T05:37:43.289117Z",
     "iopub.status.busy": "2021-06-27T05:37:43.288794Z",
     "iopub.status.idle": "2021-06-27T05:37:43.294049Z",
     "shell.execute_reply": "2021-06-27T05:37:43.293149Z",
     "shell.execute_reply.started": "2021-06-27T05:37:43.289087Z"
    }
   },
   "outputs": [
    {
     "data": {
      "text/plain": [
       "array([90, 33, 56, ..., 51, 42, 70])"
      ]
     },
     "execution_count": 22,
     "metadata": {},
     "output_type": "execute_result"
    }
   ],
   "source": [
    "y_test"
   ]
  },
  {
   "cell_type": "code",
   "execution_count": 23,
   "metadata": {
    "execution": {
     "iopub.execute_input": "2021-06-27T05:37:54.989993Z",
     "iopub.status.busy": "2021-06-27T05:37:54.989679Z",
     "iopub.status.idle": "2021-06-27T05:37:55.017673Z",
     "shell.execute_reply": "2021-06-27T05:37:55.016905Z",
     "shell.execute_reply.started": "2021-06-27T05:37:54.989964Z"
    }
   },
   "outputs": [],
   "source": [
    "#Salvo las predicciones y genero el archivo csv según el formato pedido\n",
    "df = pd.DataFrame(y_test, columns=[\"label\"])\n",
    "df.index.name = \"Id\"\n",
    "df.to_csv(\"submission4.csv\")"
   ]
  },
  {
   "cell_type": "code",
   "execution_count": 24,
   "metadata": {
    "execution": {
     "iopub.execute_input": "2021-06-27T05:37:59.063911Z",
     "iopub.status.busy": "2021-06-27T05:37:59.063588Z",
     "iopub.status.idle": "2021-06-27T05:37:59.071149Z",
     "shell.execute_reply": "2021-06-27T05:37:59.070240Z",
     "shell.execute_reply.started": "2021-06-27T05:37:59.063874Z"
    }
   },
   "outputs": [
    {
     "data": {
      "text/html": [
       "<div>\n",
       "<style scoped>\n",
       "    .dataframe tbody tr th:only-of-type {\n",
       "        vertical-align: middle;\n",
       "    }\n",
       "\n",
       "    .dataframe tbody tr th {\n",
       "        vertical-align: top;\n",
       "    }\n",
       "\n",
       "    .dataframe thead th {\n",
       "        text-align: right;\n",
       "    }\n",
       "</style>\n",
       "<table border=\"1\" class=\"dataframe\">\n",
       "  <thead>\n",
       "    <tr style=\"text-align: right;\">\n",
       "      <th></th>\n",
       "      <th>label</th>\n",
       "    </tr>\n",
       "    <tr>\n",
       "      <th>Id</th>\n",
       "      <th></th>\n",
       "    </tr>\n",
       "  </thead>\n",
       "  <tbody>\n",
       "    <tr>\n",
       "      <th>0</th>\n",
       "      <td>90</td>\n",
       "    </tr>\n",
       "    <tr>\n",
       "      <th>1</th>\n",
       "      <td>33</td>\n",
       "    </tr>\n",
       "    <tr>\n",
       "      <th>2</th>\n",
       "      <td>56</td>\n",
       "    </tr>\n",
       "    <tr>\n",
       "      <th>3</th>\n",
       "      <td>51</td>\n",
       "    </tr>\n",
       "    <tr>\n",
       "      <th>4</th>\n",
       "      <td>71</td>\n",
       "    </tr>\n",
       "  </tbody>\n",
       "</table>\n",
       "</div>"
      ],
      "text/plain": [
       "    label\n",
       "Id       \n",
       "0      90\n",
       "1      33\n",
       "2      56\n",
       "3      51\n",
       "4      71"
      ]
     },
     "execution_count": 24,
     "metadata": {},
     "output_type": "execute_result"
    }
   ],
   "source": [
    "df.head()"
   ]
  }
 ],
 "metadata": {
  "kernelspec": {
   "display_name": "Python 3",
   "language": "python",
   "name": "python3"
  },
  "language_info": {
   "codemirror_mode": {
    "name": "ipython",
    "version": 3
   },
   "file_extension": ".py",
   "mimetype": "text/x-python",
   "name": "python",
   "nbconvert_exporter": "python",
   "pygments_lexer": "ipython3",
   "version": "3.8.5"
  }
 },
 "nbformat": 4,
 "nbformat_minor": 4
}
